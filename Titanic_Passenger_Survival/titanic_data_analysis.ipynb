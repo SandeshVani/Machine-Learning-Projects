{
 "cells": [
  {
   "cell_type": "markdown",
   "id": "dac88434-c5a7-4db7-a2bc-4aca735692fb",
   "metadata": {},
   "source": [
    "# Titanic Passanger Survival Analysis"
   ]
  },
  {
   "cell_type": "code",
   "execution_count": 128,
   "id": "d3027c6b-09f2-44b4-b6a1-67a6878b40f1",
   "metadata": {
    "jupyter": {
     "source_hidden": true
    }
   },
   "outputs": [
    {
     "data": {
      "text/html": [
       "<img src=\"https://static1.squarespace.com/static/5006453fe4b09ef2252ba068/5095eabce4b06cb305058603/5095eabce4b02d37bef4c24c/1352002236895/100_anniversary_titanic_sinking_by_esai8mellows-d4xbme8.jpg\"/>"
      ],
      "text/plain": [
       "<IPython.core.display.Image object>"
      ]
     },
     "execution_count": 128,
     "metadata": {},
     "output_type": "execute_result"
    }
   ],
   "source": [
    "from IPython.display import Image\n",
    "Image(url= \"https://static1.squarespace.com/static/5006453fe4b09ef2252ba068/5095eabce4b06cb305058603/5095eabce4b02d37bef4c24c/1352002236895/100_anniversary_titanic_sinking_by_esai8mellows-d4xbme8.jpg\")"
   ]
  },
  {
   "cell_type": "markdown",
   "id": "c188646b-9222-4ff4-ae44-da1c4d7c86c6",
   "metadata": {},
   "source": [
    "# Data Import and Loading"
   ]
  },
  {
   "cell_type": "code",
   "execution_count": 5,
   "id": "57e8ace5-e7f3-4094-8657-d8fe3e0ed6f4",
   "metadata": {},
   "outputs": [],
   "source": [
    "import pandas as pd\n",
    "import numpy as np\n",
    "import matplotlib.pyplot as plt\n",
    "import seaborn as sns"
   ]
  },
  {
   "cell_type": "code",
   "execution_count": 2,
   "id": "bc647dfe-ef5a-4650-bfee-6d0da379f196",
   "metadata": {},
   "outputs": [
    {
     "data": {
      "text/html": [
       "<div>\n",
       "<style scoped>\n",
       "    .dataframe tbody tr th:only-of-type {\n",
       "        vertical-align: middle;\n",
       "    }\n",
       "\n",
       "    .dataframe tbody tr th {\n",
       "        vertical-align: top;\n",
       "    }\n",
       "\n",
       "    .dataframe thead th {\n",
       "        text-align: right;\n",
       "    }\n",
       "</style>\n",
       "<table border=\"1\" class=\"dataframe\">\n",
       "  <thead>\n",
       "    <tr style=\"text-align: right;\">\n",
       "      <th></th>\n",
       "      <th>PassengerId</th>\n",
       "      <th>Survived</th>\n",
       "      <th>Pclass</th>\n",
       "      <th>Name</th>\n",
       "      <th>Sex</th>\n",
       "      <th>Age</th>\n",
       "      <th>SibSp</th>\n",
       "      <th>Parch</th>\n",
       "      <th>Ticket</th>\n",
       "      <th>Fare</th>\n",
       "      <th>Cabin</th>\n",
       "      <th>Embarked</th>\n",
       "    </tr>\n",
       "  </thead>\n",
       "  <tbody>\n",
       "    <tr>\n",
       "      <th>0</th>\n",
       "      <td>1</td>\n",
       "      <td>0</td>\n",
       "      <td>3</td>\n",
       "      <td>Braund, Mr. Owen Harris</td>\n",
       "      <td>male</td>\n",
       "      <td>22.0</td>\n",
       "      <td>1</td>\n",
       "      <td>0</td>\n",
       "      <td>A/5 21171</td>\n",
       "      <td>7.2500</td>\n",
       "      <td>NaN</td>\n",
       "      <td>S</td>\n",
       "    </tr>\n",
       "    <tr>\n",
       "      <th>1</th>\n",
       "      <td>2</td>\n",
       "      <td>1</td>\n",
       "      <td>1</td>\n",
       "      <td>Cumings, Mrs. John Bradley (Florence Briggs Th...</td>\n",
       "      <td>female</td>\n",
       "      <td>38.0</td>\n",
       "      <td>1</td>\n",
       "      <td>0</td>\n",
       "      <td>PC 17599</td>\n",
       "      <td>71.2833</td>\n",
       "      <td>C85</td>\n",
       "      <td>C</td>\n",
       "    </tr>\n",
       "    <tr>\n",
       "      <th>2</th>\n",
       "      <td>3</td>\n",
       "      <td>1</td>\n",
       "      <td>3</td>\n",
       "      <td>Heikkinen, Miss. Laina</td>\n",
       "      <td>female</td>\n",
       "      <td>26.0</td>\n",
       "      <td>0</td>\n",
       "      <td>0</td>\n",
       "      <td>STON/O2. 3101282</td>\n",
       "      <td>7.9250</td>\n",
       "      <td>NaN</td>\n",
       "      <td>S</td>\n",
       "    </tr>\n",
       "    <tr>\n",
       "      <th>3</th>\n",
       "      <td>4</td>\n",
       "      <td>1</td>\n",
       "      <td>1</td>\n",
       "      <td>Futrelle, Mrs. Jacques Heath (Lily May Peel)</td>\n",
       "      <td>female</td>\n",
       "      <td>35.0</td>\n",
       "      <td>1</td>\n",
       "      <td>0</td>\n",
       "      <td>113803</td>\n",
       "      <td>53.1000</td>\n",
       "      <td>C123</td>\n",
       "      <td>S</td>\n",
       "    </tr>\n",
       "    <tr>\n",
       "      <th>4</th>\n",
       "      <td>5</td>\n",
       "      <td>0</td>\n",
       "      <td>3</td>\n",
       "      <td>Allen, Mr. William Henry</td>\n",
       "      <td>male</td>\n",
       "      <td>35.0</td>\n",
       "      <td>0</td>\n",
       "      <td>0</td>\n",
       "      <td>373450</td>\n",
       "      <td>8.0500</td>\n",
       "      <td>NaN</td>\n",
       "      <td>S</td>\n",
       "    </tr>\n",
       "  </tbody>\n",
       "</table>\n",
       "</div>"
      ],
      "text/plain": [
       "   PassengerId  Survived  Pclass  \\\n",
       "0            1         0       3   \n",
       "1            2         1       1   \n",
       "2            3         1       3   \n",
       "3            4         1       1   \n",
       "4            5         0       3   \n",
       "\n",
       "                                                Name     Sex   Age  SibSp  \\\n",
       "0                            Braund, Mr. Owen Harris    male  22.0      1   \n",
       "1  Cumings, Mrs. John Bradley (Florence Briggs Th...  female  38.0      1   \n",
       "2                             Heikkinen, Miss. Laina  female  26.0      0   \n",
       "3       Futrelle, Mrs. Jacques Heath (Lily May Peel)  female  35.0      1   \n",
       "4                           Allen, Mr. William Henry    male  35.0      0   \n",
       "\n",
       "   Parch            Ticket     Fare Cabin Embarked  \n",
       "0      0         A/5 21171   7.2500   NaN        S  \n",
       "1      0          PC 17599  71.2833   C85        C  \n",
       "2      0  STON/O2. 3101282   7.9250   NaN        S  \n",
       "3      0            113803  53.1000  C123        S  \n",
       "4      0            373450   8.0500   NaN        S  "
      ]
     },
     "execution_count": 2,
     "metadata": {},
     "output_type": "execute_result"
    }
   ],
   "source": [
    "df = pd.read_csv(\"train.csv\")\n",
    "\n",
    "df.head()"
   ]
  },
  {
   "cell_type": "markdown",
   "id": "9988daf7-4ffd-4b02-ba03-5bb4eab8061a",
   "metadata": {},
   "source": [
    "# Data Study"
   ]
  },
  {
   "cell_type": "code",
   "execution_count": 131,
   "id": "2c4a666d-db1f-44e2-8d2a-0b19c6c52672",
   "metadata": {},
   "outputs": [
    {
     "name": "stdout",
     "output_type": "stream",
     "text": [
      "shape of the data is : (891, 12)\n"
     ]
    }
   ],
   "source": [
    "print(\"shape of the data is :\", df.shape)"
   ]
  },
  {
   "cell_type": "markdown",
   "id": "774cea07-d27e-4a22-b6e5-1a3377a48e27",
   "metadata": {},
   "source": [
    "#### Checking data types and missing values to guide cleaning."
   ]
  },
  {
   "cell_type": "code",
   "execution_count": 132,
   "id": "162b9ce9-9632-4c6f-b102-39a7da9c5fbd",
   "metadata": {},
   "outputs": [
    {
     "name": "stdout",
     "output_type": "stream",
     "text": [
      "<class 'pandas.core.frame.DataFrame'>\n",
      "RangeIndex: 891 entries, 0 to 890\n",
      "Data columns (total 12 columns):\n",
      " #   Column       Non-Null Count  Dtype  \n",
      "---  ------       --------------  -----  \n",
      " 0   PassengerId  891 non-null    int64  \n",
      " 1   Survived     891 non-null    int64  \n",
      " 2   Pclass       891 non-null    int64  \n",
      " 3   Name         891 non-null    object \n",
      " 4   Sex          891 non-null    object \n",
      " 5   Age          714 non-null    float64\n",
      " 6   SibSp        891 non-null    int64  \n",
      " 7   Parch        891 non-null    int64  \n",
      " 8   Ticket       891 non-null    object \n",
      " 9   Fare         891 non-null    float64\n",
      " 10  Cabin        204 non-null    object \n",
      " 11  Embarked     889 non-null    object \n",
      "dtypes: float64(2), int64(5), object(5)\n",
      "memory usage: 83.7+ KB\n"
     ]
    }
   ],
   "source": [
    "df.info()"
   ]
  },
  {
   "cell_type": "code",
   "execution_count": 133,
   "id": "71aa0fcf-49e7-43a4-93ce-2c9d8c291e9b",
   "metadata": {},
   "outputs": [
    {
     "data": {
      "text/html": [
       "<div>\n",
       "<style scoped>\n",
       "    .dataframe tbody tr th:only-of-type {\n",
       "        vertical-align: middle;\n",
       "    }\n",
       "\n",
       "    .dataframe tbody tr th {\n",
       "        vertical-align: top;\n",
       "    }\n",
       "\n",
       "    .dataframe thead th {\n",
       "        text-align: right;\n",
       "    }\n",
       "</style>\n",
       "<table border=\"1\" class=\"dataframe\">\n",
       "  <thead>\n",
       "    <tr style=\"text-align: right;\">\n",
       "      <th></th>\n",
       "      <th>PassengerId</th>\n",
       "      <th>Survived</th>\n",
       "      <th>Pclass</th>\n",
       "      <th>Age</th>\n",
       "      <th>SibSp</th>\n",
       "      <th>Parch</th>\n",
       "      <th>Fare</th>\n",
       "    </tr>\n",
       "  </thead>\n",
       "  <tbody>\n",
       "    <tr>\n",
       "      <th>count</th>\n",
       "      <td>891.000000</td>\n",
       "      <td>891.000000</td>\n",
       "      <td>891.000000</td>\n",
       "      <td>714.000000</td>\n",
       "      <td>891.000000</td>\n",
       "      <td>891.000000</td>\n",
       "      <td>891.000000</td>\n",
       "    </tr>\n",
       "    <tr>\n",
       "      <th>mean</th>\n",
       "      <td>446.000000</td>\n",
       "      <td>0.383838</td>\n",
       "      <td>2.308642</td>\n",
       "      <td>29.699118</td>\n",
       "      <td>0.523008</td>\n",
       "      <td>0.381594</td>\n",
       "      <td>32.204208</td>\n",
       "    </tr>\n",
       "    <tr>\n",
       "      <th>std</th>\n",
       "      <td>257.353842</td>\n",
       "      <td>0.486592</td>\n",
       "      <td>0.836071</td>\n",
       "      <td>14.526497</td>\n",
       "      <td>1.102743</td>\n",
       "      <td>0.806057</td>\n",
       "      <td>49.693429</td>\n",
       "    </tr>\n",
       "    <tr>\n",
       "      <th>min</th>\n",
       "      <td>1.000000</td>\n",
       "      <td>0.000000</td>\n",
       "      <td>1.000000</td>\n",
       "      <td>0.420000</td>\n",
       "      <td>0.000000</td>\n",
       "      <td>0.000000</td>\n",
       "      <td>0.000000</td>\n",
       "    </tr>\n",
       "    <tr>\n",
       "      <th>25%</th>\n",
       "      <td>223.500000</td>\n",
       "      <td>0.000000</td>\n",
       "      <td>2.000000</td>\n",
       "      <td>20.125000</td>\n",
       "      <td>0.000000</td>\n",
       "      <td>0.000000</td>\n",
       "      <td>7.910400</td>\n",
       "    </tr>\n",
       "    <tr>\n",
       "      <th>50%</th>\n",
       "      <td>446.000000</td>\n",
       "      <td>0.000000</td>\n",
       "      <td>3.000000</td>\n",
       "      <td>28.000000</td>\n",
       "      <td>0.000000</td>\n",
       "      <td>0.000000</td>\n",
       "      <td>14.454200</td>\n",
       "    </tr>\n",
       "    <tr>\n",
       "      <th>75%</th>\n",
       "      <td>668.500000</td>\n",
       "      <td>1.000000</td>\n",
       "      <td>3.000000</td>\n",
       "      <td>38.000000</td>\n",
       "      <td>1.000000</td>\n",
       "      <td>0.000000</td>\n",
       "      <td>31.000000</td>\n",
       "    </tr>\n",
       "    <tr>\n",
       "      <th>max</th>\n",
       "      <td>891.000000</td>\n",
       "      <td>1.000000</td>\n",
       "      <td>3.000000</td>\n",
       "      <td>80.000000</td>\n",
       "      <td>8.000000</td>\n",
       "      <td>6.000000</td>\n",
       "      <td>512.329200</td>\n",
       "    </tr>\n",
       "  </tbody>\n",
       "</table>\n",
       "</div>"
      ],
      "text/plain": [
       "       PassengerId    Survived      Pclass         Age       SibSp  \\\n",
       "count   891.000000  891.000000  891.000000  714.000000  891.000000   \n",
       "mean    446.000000    0.383838    2.308642   29.699118    0.523008   \n",
       "std     257.353842    0.486592    0.836071   14.526497    1.102743   \n",
       "min       1.000000    0.000000    1.000000    0.420000    0.000000   \n",
       "25%     223.500000    0.000000    2.000000   20.125000    0.000000   \n",
       "50%     446.000000    0.000000    3.000000   28.000000    0.000000   \n",
       "75%     668.500000    1.000000    3.000000   38.000000    1.000000   \n",
       "max     891.000000    1.000000    3.000000   80.000000    8.000000   \n",
       "\n",
       "            Parch        Fare  \n",
       "count  891.000000  891.000000  \n",
       "mean     0.381594   32.204208  \n",
       "std      0.806057   49.693429  \n",
       "min      0.000000    0.000000  \n",
       "25%      0.000000    7.910400  \n",
       "50%      0.000000   14.454200  \n",
       "75%      0.000000   31.000000  \n",
       "max      6.000000  512.329200  "
      ]
     },
     "execution_count": 133,
     "metadata": {},
     "output_type": "execute_result"
    }
   ],
   "source": [
    "df.describe()"
   ]
  },
  {
   "cell_type": "code",
   "execution_count": 134,
   "id": "d19c5343-7dfd-4f0a-b13a-75004df94e34",
   "metadata": {},
   "outputs": [
    {
     "name": "stdout",
     "output_type": "stream",
     "text": [
      "null values in the data :\n"
     ]
    },
    {
     "data": {
      "text/plain": [
       "PassengerId      0\n",
       "Survived         0\n",
       "Pclass           0\n",
       "Name             0\n",
       "Sex              0\n",
       "Age            177\n",
       "SibSp            0\n",
       "Parch            0\n",
       "Ticket           0\n",
       "Fare             0\n",
       "Cabin          687\n",
       "Embarked         2\n",
       "dtype: int64"
      ]
     },
     "execution_count": 134,
     "metadata": {},
     "output_type": "execute_result"
    }
   ],
   "source": [
    "print(\"null values in the data :\")\n",
    "df.isnull().sum()"
   ]
  },
  {
   "cell_type": "markdown",
   "id": "a0b57f22-7191-45f6-9a75-aa7a221552ea",
   "metadata": {},
   "source": [
    "# Data Visualization"
   ]
  },
  {
   "cell_type": "code",
   "execution_count": 135,
   "id": "deb1a78f-d5df-477f-9b6c-d80806a4f4ca",
   "metadata": {},
   "outputs": [],
   "source": [
    "def bar_plot(data, feature) :\n",
    "    survived = data[data[\"Survived\"] == 1][feature].value_counts()\n",
    "    dead = data[data[\"Survived\"] == 0][feature].value_counts()\n",
    "    df = pd.DataFrame([survived, dead])\n",
    "    df.index = ['Survived', 'Dead']\n",
    "    print(\"Survived :\\n\", survived)\n",
    "    print(\"Dead:\\n\", dead)\n",
    "    df.plot(kind=\"bar\", stacked = True, figsize=(4, 3), colormap='Set2')\n",
    "    plt.title(f\"Survival Counts by {feature}\")\n",
    "    plt.xlabel(feature)\n",
    "    plt.ylabel(\"Number of Passengers\")\n",
    "    plt.xticks(rotation=0)\n",
    "    plt.legend()\n",
    "    plt.tight_layout()\n",
    "    plt.show()"
   ]
  },
  {
   "cell_type": "code",
   "execution_count": 136,
   "id": "81436770-db9c-4922-a647-78f385b66522",
   "metadata": {
    "scrolled": true
   },
   "outputs": [
    {
     "name": "stdout",
     "output_type": "stream",
     "text": [
      "Survived :\n",
      " Sex\n",
      "female    233\n",
      "male      109\n",
      "Name: count, dtype: int64\n",
      "Dead:\n",
      " Sex\n",
      "male      468\n",
      "female     81\n",
      "Name: count, dtype: int64\n"
     ]
    },
    {
     "data": {
      "image/png": "[encoded data removed]",
      "text/plain": [
       "<Figure size 400x300 with 1 Axes>"
      ]
     },
     "metadata": {},
     "output_type": "display_data"
    },
    {
     "name": "stdout",
     "output_type": "stream",
     "text": [
      "Survived :\n",
      " Pclass\n",
      "1    136\n",
      "3    119\n",
      "2     87\n",
      "Name: count, dtype: int64\n",
      "Dead:\n",
      " Pclass\n",
      "3    372\n",
      "2     97\n",
      "1     80\n",
      "Name: count, dtype: int64\n"
     ]
    },
    {
     "data": {
      "image/png": "[encoded data removed]",
      "text/plain": [
       "<Figure size 400x300 with 1 Axes>"
      ]
     },
     "metadata": {},
     "output_type": "display_data"
    },
    {
     "name": "stdout",
     "output_type": "stream",
     "text": [
      "Survived :\n",
      " SibSp\n",
      "0    210\n",
      "1    112\n",
      "2     13\n",
      "3      4\n",
      "4      3\n",
      "Name: count, dtype: int64\n",
      "Dead:\n",
      " SibSp\n",
      "0    398\n",
      "1     97\n",
      "4     15\n",
      "2     15\n",
      "3     12\n",
      "8      7\n",
      "5      5\n",
      "Name: count, dtype: int64\n"
     ]
    },
    {
     "data": {
      "image/png": "[encoded data removed]",
      "text/plain": [
       "<Figure size 400x300 with 1 Axes>"
      ]
     },
     "metadata": {},
     "output_type": "display_data"
    },
    {
     "name": "stdout",
     "output_type": "stream",
     "text": [
      "Survived :\n",
      " Parch\n",
      "0    233\n",
      "1     65\n",
      "2     40\n",
      "3      3\n",
      "5      1\n",
      "Name: count, dtype: int64\n",
      "Dead:\n",
      " Parch\n",
      "0    445\n",
      "1     53\n",
      "2     40\n",
      "5      4\n",
      "4      4\n",
      "3      2\n",
      "6      1\n",
      "Name: count, dtype: int64\n"
     ]
    },
    {
     "data": {
      "image/png": "[encoded data removed]",
      "text/plain": [
       "<Figure size 400x300 with 1 Axes>"
      ]
     },
     "metadata": {},
     "output_type": "display_data"
    },
    {
     "name": "stdout",
     "output_type": "stream",
     "text": [
      "Survived :\n",
      " Embarked\n",
      "S    217\n",
      "C     93\n",
      "Q     30\n",
      "Name: count, dtype: int64\n",
      "Dead:\n",
      " Embarked\n",
      "S    427\n",
      "C     75\n",
      "Q     47\n",
      "Name: count, dtype: int64\n"
     ]
    },
    {
     "data": {
      "image/png": "[encoded data removed]",
      "text/plain": [
       "<Figure size 400x300 with 1 Axes>"
      ]
     },
     "metadata": {},
     "output_type": "display_data"
    }
   ],
   "source": [
    "features = [\"Sex\", \"Pclass\", \"SibSp\", \"Parch\", \"Embarked\"]\n",
    "for col in features:\n",
    "    bar_plot(df, col)"
   ]
  },
  {
   "cell_type": "markdown",
   "id": "d680975d-c600-4fb1-a29e-a3e81a9b8fc0",
   "metadata": {},
   "source": [
    "### Summary of the Data\n",
    "Females are more likely survivied than Males.\n",
    "\n",
    "Class 1 survived the more than other classes\n",
    "Class 3 are more likely to be dead\n",
    "\n",
    "People aboarded with more than 2 siblings or spouse more likely survived.\n",
    "People aboarded without siblings or spouse are more likely to be dead\n",
    "\n",
    "Passengers with no family (SibSp = 0) were most common and had high mortality (398 died, 210 survived).\n",
    "Passengers with 1 sibling/spouse had a relatively better chance of survival (112 survived vs. 97 died).\n",
    "\n",
    "Having a large number of siblings/spouses (≥3) strongly correlates with lower survival.\n",
    "\n",
    "The Chart confirms a person aboarded from C slightly more likely survived.\n",
    "The Chart confirms a person aboarded from Q more likely dead.\n",
    "The Chart confirms a person aboarded from S more likely dead.\n",
    "\n",
    "### In Short\n",
    "Women, the wealthy, and those with close family had the best chance of survival.\n",
    "\n",
    "Men, 3rd Class travelers, and those alone or in big families were at higher risk."
   ]
  },
  {
   "cell_type": "markdown",
   "id": "936498eb-1f58-4e76-bdc8-d734b18e6f97",
   "metadata": {},
   "source": [
    "# Feature Engineering\n",
    "\n",
    "Creating new input features or modifying existing ones to improve the performance of the machine learning model."
   ]
  },
  {
   "cell_type": "markdown",
   "id": "b56a740e-2681-4bfb-aa9f-89cb5bfdf4e1",
   "metadata": {},
   "source": [
    "### Extracting Titles from Name to get their social status."
   ]
  },
  {
   "cell_type": "code",
   "execution_count": 6,
   "id": "3c53d39b-b0a6-4b75-a694-a5dc83e6ae25",
   "metadata": {
    "scrolled": true
   },
   "outputs": [],
   "source": [
    "df[\"Title\"] = df[\"Name\"].str.extract('([A-Za-z]+)\\.', expand = False)"
   ]
  },
  {
   "cell_type": "code",
   "execution_count": 138,
   "id": "c85fb9ce-df14-4cb2-89f7-8a2556f737dd",
   "metadata": {
    "scrolled": true
   },
   "outputs": [
    {
     "name": "stdout",
     "output_type": "stream",
     "text": [
      "Data: \n",
      " Title\n",
      "Mr          517\n",
      "Miss        182\n",
      "Mrs         125\n",
      "Master       40\n",
      "Dr            7\n",
      "Rev           6\n",
      "Mlle          2\n",
      "Major         2\n",
      "Col           2\n",
      "Countess      1\n",
      "Capt          1\n",
      "Ms            1\n",
      "Sir           1\n",
      "Lady          1\n",
      "Mme           1\n",
      "Don           1\n",
      "Jonkheer      1\n",
      "Name: count, dtype: int64\n"
     ]
    }
   ],
   "source": [
    "print(\"Data: \\n\",\n",
    "    df[\"Title\"].value_counts())"
   ]
  },
  {
   "cell_type": "code",
   "execution_count": 7,
   "id": "f4e7078b-9863-4574-9523-9c38c83d6ad8",
   "metadata": {},
   "outputs": [],
   "source": [
    "title_mapping = {\"Mr\": 0, \"Miss\": 1, \"Mrs\": 2, 'Master': 3,\n",
    "                 \"Dr\": 3, \"Rev\": 3, \"Col\": 3, \"Major\": 3, \"Mlle\": 3,\"Countess\": 3,\n",
    "                 \"Ms\": 3, \"Lady\": 3, \"Jonkheer\": 3, \"Don\": 3, \"Dona\" : 3, \"Mme\": 3,\"Capt\": 3,\"Sir\": 3 }\n",
    "\n",
    "df['Title'] = df[\"Title\"].map(title_mapping)"
   ]
  },
  {
   "cell_type": "code",
   "execution_count": 140,
   "id": "1aef6455-8e67-4dcb-9d3e-9143a7192418",
   "metadata": {},
   "outputs": [],
   "source": [
    "df.drop(columns=\"Name\", inplace = True)"
   ]
  },
  {
   "cell_type": "code",
   "execution_count": 141,
   "id": "67bc3048-e8e4-40d7-b834-8c540607ce6b",
   "metadata": {
    "scrolled": true
   },
   "outputs": [
    {
     "name": "stdout",
     "output_type": "stream",
     "text": [
      "Survived :\n",
      " Title\n",
      "1    127\n",
      "2     99\n",
      "0     81\n",
      "3     35\n",
      "Name: count, dtype: int64\n",
      "Dead:\n",
      " Title\n",
      "0    436\n",
      "1     55\n",
      "3     32\n",
      "2     26\n",
      "Name: count, dtype: int64\n"
     ]
    },
    {
     "data": {
      "image/png": "[encoded data removed]",
      "text/plain": [
       "<Figure size 400x300 with 1 Axes>"
      ]
     },
     "metadata": {},
     "output_type": "display_data"
    }
   ],
   "source": [
    "bar_plot(df, \"Title\")"
   ]
  },
  {
   "cell_type": "markdown",
   "id": "e63ee9d7-1b09-41cc-9150-e5d1c12e2b74",
   "metadata": {},
   "source": [
    "### Interpretation\n",
    "Women (Miss, Mrs) had the highest survival rates.\n",
    "\n",
    "Men (Mr) had the lowest survival rate.\n",
    "\n",
    "Rare titles and children (Master) had mixed outcomes — some survived, but also dead."
   ]
  },
  {
   "cell_type": "markdown",
   "id": "f41f4648-2d2c-4bdd-b617-559fc8d18b82",
   "metadata": {},
   "source": [
    "### Sex Mapping"
   ]
  },
  {
   "cell_type": "code",
   "execution_count": 142,
   "id": "55f55eeb-531c-49f7-949d-989a8fb7a39a",
   "metadata": {},
   "outputs": [],
   "source": [
    "sex_mapping = {\"female\" : 0, 'male': 1}\n",
    "\n",
    "df[\"Sex\"] = df[\"Sex\"].map(sex_mapping)"
   ]
  },
  {
   "cell_type": "code",
   "execution_count": 143,
   "id": "9995bf40-ccf8-470d-b9ce-5caa594c8605",
   "metadata": {},
   "outputs": [
    {
     "data": {
      "text/html": [
       "<div>\n",
       "<style scoped>\n",
       "    .dataframe tbody tr th:only-of-type {\n",
       "        vertical-align: middle;\n",
       "    }\n",
       "\n",
       "    .dataframe tbody tr th {\n",
       "        vertical-align: top;\n",
       "    }\n",
       "\n",
       "    .dataframe thead th {\n",
       "        text-align: right;\n",
       "    }\n",
       "</style>\n",
       "<table border=\"1\" class=\"dataframe\">\n",
       "  <thead>\n",
       "    <tr style=\"text-align: right;\">\n",
       "      <th></th>\n",
       "      <th>PassengerId</th>\n",
       "      <th>Survived</th>\n",
       "      <th>Pclass</th>\n",
       "      <th>Sex</th>\n",
       "      <th>Age</th>\n",
       "      <th>SibSp</th>\n",
       "      <th>Parch</th>\n",
       "      <th>Ticket</th>\n",
       "      <th>Fare</th>\n",
       "      <th>Cabin</th>\n",
       "      <th>Embarked</th>\n",
       "      <th>Title</th>\n",
       "    </tr>\n",
       "  </thead>\n",
       "  <tbody>\n",
       "    <tr>\n",
       "      <th>0</th>\n",
       "      <td>1</td>\n",
       "      <td>0</td>\n",
       "      <td>3</td>\n",
       "      <td>1</td>\n",
       "      <td>22.0</td>\n",
       "      <td>1</td>\n",
       "      <td>0</td>\n",
       "      <td>A/5 21171</td>\n",
       "      <td>7.2500</td>\n",
       "      <td>NaN</td>\n",
       "      <td>S</td>\n",
       "      <td>0</td>\n",
       "    </tr>\n",
       "    <tr>\n",
       "      <th>1</th>\n",
       "      <td>2</td>\n",
       "      <td>1</td>\n",
       "      <td>1</td>\n",
       "      <td>0</td>\n",
       "      <td>38.0</td>\n",
       "      <td>1</td>\n",
       "      <td>0</td>\n",
       "      <td>PC 17599</td>\n",
       "      <td>71.2833</td>\n",
       "      <td>C85</td>\n",
       "      <td>C</td>\n",
       "      <td>2</td>\n",
       "    </tr>\n",
       "    <tr>\n",
       "      <th>2</th>\n",
       "      <td>3</td>\n",
       "      <td>1</td>\n",
       "      <td>3</td>\n",
       "      <td>0</td>\n",
       "      <td>26.0</td>\n",
       "      <td>0</td>\n",
       "      <td>0</td>\n",
       "      <td>STON/O2. 3101282</td>\n",
       "      <td>7.9250</td>\n",
       "      <td>NaN</td>\n",
       "      <td>S</td>\n",
       "      <td>1</td>\n",
       "    </tr>\n",
       "  </tbody>\n",
       "</table>\n",
       "</div>"
      ],
      "text/plain": [
       "   PassengerId  Survived  Pclass  Sex   Age  SibSp  Parch            Ticket  \\\n",
       "0            1         0       3    1  22.0      1      0         A/5 21171   \n",
       "1            2         1       1    0  38.0      1      0          PC 17599   \n",
       "2            3         1       3    0  26.0      0      0  STON/O2. 3101282   \n",
       "\n",
       "      Fare Cabin Embarked  Title  \n",
       "0   7.2500   NaN        S      0  \n",
       "1  71.2833   C85        C      2  \n",
       "2   7.9250   NaN        S      1  "
      ]
     },
     "execution_count": 143,
     "metadata": {},
     "output_type": "execute_result"
    }
   ],
   "source": [
    "df.head(3)"
   ]
  },
  {
   "cell_type": "markdown",
   "id": "dec06289-f853-4067-b1c0-8012c16aec81",
   "metadata": {},
   "source": [
    "### Filling up NaN values in Age column and Binning age in groups"
   ]
  },
  {
   "cell_type": "code",
   "execution_count": 8,
   "id": "341ea9c0-d529-4cec-b401-bce5c4d86c46",
   "metadata": {},
   "outputs": [
    {
     "data": {
      "text/plain": [
       "0"
      ]
     },
     "execution_count": 8,
     "metadata": {},
     "output_type": "execute_result"
    }
   ],
   "source": [
    "df[\"Age\"] = df[\"Age\"].fillna(df.groupby(\"Title\")[\"Age\"].transform(\"median\"))\n",
    "\n",
    "df[\"Age\"].isnull().sum()"
   ]
  },
  {
   "cell_type": "code",
   "execution_count": 145,
   "id": "d0132fba-cd8d-4112-a97d-8bd509435a44",
   "metadata": {
    "scrolled": true
   },
   "outputs": [
    {
     "name": "stderr",
     "output_type": "stream",
     "text": [
      "C:\\Users\\91982\\anaconda3\\Lib\\site-packages\\seaborn\\_oldcore.py:1498: FutureWarning: is_categorical_dtype is deprecated and will be removed in a future version. Use isinstance(dtype, CategoricalDtype) instead\n",
      "  if pd.api.types.is_categorical_dtype(vector):\n",
      "C:\\Users\\91982\\anaconda3\\Lib\\site-packages\\seaborn\\_oldcore.py:1498: FutureWarning: is_categorical_dtype is deprecated and will be removed in a future version. Use isinstance(dtype, CategoricalDtype) instead\n",
      "  if pd.api.types.is_categorical_dtype(vector):\n",
      "C:\\Users\\91982\\anaconda3\\Lib\\site-packages\\seaborn\\axisgrid.py:848: FutureWarning: \n",
      "\n",
      "`shade` is now deprecated in favor of `fill`; setting `fill=True`.\n",
      "This will become an error in seaborn v0.14.0; please update your code.\n",
      "\n",
      "  func(*plot_args, **plot_kwargs)\n",
      "C:\\Users\\91982\\anaconda3\\Lib\\site-packages\\seaborn\\_oldcore.py:1498: FutureWarning: is_categorical_dtype is deprecated and will be removed in a future version. Use isinstance(dtype, CategoricalDtype) instead\n",
      "  if pd.api.types.is_categorical_dtype(vector):\n",
      "C:\\Users\\91982\\anaconda3\\Lib\\site-packages\\seaborn\\_oldcore.py:1119: FutureWarning: use_inf_as_na option is deprecated and will be removed in a future version. Convert inf values to NaN before operating instead.\n",
      "  with pd.option_context('mode.use_inf_as_na', True):\n",
      "C:\\Users\\91982\\anaconda3\\Lib\\site-packages\\seaborn\\axisgrid.py:848: FutureWarning: \n",
      "\n",
      "`shade` is now deprecated in favor of `fill`; setting `fill=True`.\n",
      "This will become an error in seaborn v0.14.0; please update your code.\n",
      "\n",
      "  func(*plot_args, **plot_kwargs)\n",
      "C:\\Users\\91982\\anaconda3\\Lib\\site-packages\\seaborn\\_oldcore.py:1498: FutureWarning: is_categorical_dtype is deprecated and will be removed in a future version. Use isinstance(dtype, CategoricalDtype) instead\n",
      "  if pd.api.types.is_categorical_dtype(vector):\n",
      "C:\\Users\\91982\\anaconda3\\Lib\\site-packages\\seaborn\\_oldcore.py:1119: FutureWarning: use_inf_as_na option is deprecated and will be removed in a future version. Convert inf values to NaN before operating instead.\n",
      "  with pd.option_context('mode.use_inf_as_na', True):\n"
     ]
    },
    {
     "data": {
      "image/png": "[encoded data removed]",
      "text/plain": [
       "<Figure size 1272.11x300 with 1 Axes>"
      ]
     },
     "metadata": {},
     "output_type": "display_data"
    }
   ],
   "source": [
    "facet = sns.FacetGrid(df, hue=\"Survived\",aspect=4)\n",
    "facet.map(sns.kdeplot,'Age',shade= True)\n",
    "facet.set(xlim=(0, df['Age'].max()))\n",
    "facet.add_legend() \n",
    "plt.show()"
   ]
  },
  {
   "cell_type": "markdown",
   "id": "592657d9-af5c-4d5a-99e9-ff351244ffe4",
   "metadata": {},
   "source": [
    "Those who were 25-35 years old were more dead and more survived."
   ]
  },
  {
   "cell_type": "code",
   "execution_count": 146,
   "id": "2579c0fe-196d-41d1-9217-b70663f3ec92",
   "metadata": {},
   "outputs": [],
   "source": [
    "def age_groups(age):\n",
    "    if age <= 16:\n",
    "        return 0  # Child\n",
    "    elif age <= 26:\n",
    "        return 1  # Young Adult\n",
    "    elif age <= 36:\n",
    "        return 2  # Adult\n",
    "    elif age <= 62:\n",
    "        return 3  # Middle Aged\n",
    "    else:\n",
    "        return 4  # Senior\n",
    "\n",
    "\n",
    "df[\"Age Group\"] = df[\"Age\"].apply(age_groups)"
   ]
  },
  {
   "cell_type": "code",
   "execution_count": 147,
   "id": "c62fed84-0e3e-48a7-a6c6-98802af08b37",
   "metadata": {
    "scrolled": true
   },
   "outputs": [
    {
     "name": "stdout",
     "output_type": "stream",
     "text": [
      "Survived :\n",
      " Age Group\n",
      "2    116\n",
      "1     97\n",
      "3     69\n",
      "0     57\n",
      "4      3\n",
      "Name: count, dtype: int64\n",
      "Dead:\n",
      " Age Group\n",
      "2    220\n",
      "1    158\n",
      "3    111\n",
      "0     48\n",
      "4     12\n",
      "Name: count, dtype: int64\n"
     ]
    },
    {
     "data": {
      "image/png": "[encoded data removed]",
      "text/plain": [
       "<Figure size 400x300 with 1 Axes>"
      ]
     },
     "metadata": {},
     "output_type": "display_data"
    }
   ],
   "source": [
    "bar_plot(df, \"Age Group\")"
   ]
  },
  {
   "cell_type": "markdown",
   "id": "bd0e913a-3372-443e-ade5-4d6382f41972",
   "metadata": {},
   "source": [
    "### Interpretation\n",
    "Younger passengers (age ≤ 16) had a higher survival rate, while survival decreased with age. Middle-aged and older passengers were less likely to survive. \n",
    "##### This matches the historical “women and children first” pattern."
   ]
  },
  {
   "cell_type": "markdown",
   "id": "e3785e21-4f27-4f4d-b53f-00cea8272583",
   "metadata": {},
   "source": [
    "### Mapping & Filling Null values in Embarked Feature"
   ]
  },
  {
   "cell_type": "code",
   "execution_count": 148,
   "id": "46138613-c9d2-4e44-bee4-3843fca1b995",
   "metadata": {},
   "outputs": [],
   "source": [
    "emb_mapping = {'S': 0, 'C': 1, 'Q': 2}\n",
    "\n",
    "df[\"Embarked\"] = df[\"Embarked\"].fillna(df[\"Embarked\"].mode()[0]).map(emb_mapping)"
   ]
  },
  {
   "cell_type": "code",
   "execution_count": 149,
   "id": "00651c71-83fb-4974-b559-fe5fcbf164eb",
   "metadata": {},
   "outputs": [
    {
     "data": {
      "text/plain": [
       "PassengerId      0\n",
       "Survived         0\n",
       "Pclass           0\n",
       "Sex              0\n",
       "Age              0\n",
       "SibSp            0\n",
       "Parch            0\n",
       "Ticket           0\n",
       "Fare             0\n",
       "Cabin          687\n",
       "Embarked         0\n",
       "Title            0\n",
       "Age Group        0\n",
       "dtype: int64"
      ]
     },
     "execution_count": 149,
     "metadata": {},
     "output_type": "execute_result"
    }
   ],
   "source": [
    "df.isnull().sum()"
   ]
  },
  {
   "cell_type": "markdown",
   "id": "df06ccb8-ac8b-40c1-8920-2371619b4439",
   "metadata": {},
   "source": [
    "### Mapping & Filling Null values in Cabin Feature"
   ]
  },
  {
   "cell_type": "code",
   "execution_count": 150,
   "id": "6e442197-679c-4965-b662-b8132fa7b2c7",
   "metadata": {},
   "outputs": [],
   "source": [
    "df[\"Cabin\"] = df[\"Cabin\"].fillna(\"Missing\").str[0]"
   ]
  },
  {
   "cell_type": "markdown",
   "id": "ecd90ab4-b562-425d-99db-2622889cd299",
   "metadata": {},
   "source": [
    "#### Since there are Categorical values, we use Encoding for transforming them into numerical"
   ]
  },
  {
   "cell_type": "code",
   "execution_count": 151,
   "id": "c8ccd46f-85ed-4a6d-9658-4747aa696a64",
   "metadata": {},
   "outputs": [],
   "source": [
    "from sklearn.preprocessing import LabelEncoder\n",
    "\n",
    "encoder = LabelEncoder()\n",
    "\n",
    "df[\"Cabin\"] = encoder.fit_transform(df[\"Cabin\"])"
   ]
  },
  {
   "cell_type": "code",
   "execution_count": 152,
   "id": "b251632d-6bde-48f1-b03c-91dea7065df0",
   "metadata": {},
   "outputs": [
    {
     "data": {
      "text/plain": [
       "PassengerId    0\n",
       "Survived       0\n",
       "Pclass         0\n",
       "Sex            0\n",
       "Age            0\n",
       "SibSp          0\n",
       "Parch          0\n",
       "Ticket         0\n",
       "Fare           0\n",
       "Cabin          0\n",
       "Embarked       0\n",
       "Title          0\n",
       "Age Group      0\n",
       "dtype: int64"
      ]
     },
     "execution_count": 152,
     "metadata": {},
     "output_type": "execute_result"
    }
   ],
   "source": [
    "df.isnull().sum()"
   ]
  },
  {
   "cell_type": "markdown",
   "id": "5eb5c1f3-0c03-4778-aa93-406d5bc5d2f2",
   "metadata": {},
   "source": [
    "### Family mapping \n",
    "Since, \"SibSp\" and \"Parch\" represents related information: your family on board.\n",
    "\n",
    "If it is used as-is then the model will treats them as independent features, even though they both desctibes the same thing(family).\n",
    "This could reduce the Performance."
   ]
  },
  {
   "cell_type": "code",
   "execution_count": 153,
   "id": "cc36410a-286b-4243-b16c-b2df38c743dc",
   "metadata": {},
   "outputs": [],
   "source": [
    "def family_size_group(n):\n",
    "    if n == 1:\n",
    "        return 0\n",
    "    elif n <= 3:\n",
    "        return 1\n",
    "    elif n <= 6:\n",
    "        return 2\n",
    "    else:\n",
    "        return 3"
   ]
  },
  {
   "cell_type": "code",
   "execution_count": 154,
   "id": "36df9559-1f21-4483-8cb0-4a4167fd743d",
   "metadata": {},
   "outputs": [],
   "source": [
    "df[\"Family Size\"] = df[\"SibSp\"] + df[\"Parch\"] + 1  # we add 1 for the passenger\n",
    "\n",
    "df[\"Family Size Group\"] = df[\"Family Size\"].apply(family_size_group)"
   ]
  },
  {
   "cell_type": "code",
   "execution_count": 155,
   "id": "772532e0-c691-421e-a5cd-2a01f0a7e1c3",
   "metadata": {
    "scrolled": true
   },
   "outputs": [
    {
     "name": "stdout",
     "output_type": "stream",
     "text": [
      "Survived :\n",
      " Family Size Group\n",
      "0    163\n",
      "1    148\n",
      "2     27\n",
      "3      4\n",
      "Name: count, dtype: int64\n",
      "Dead:\n",
      " Family Size Group\n",
      "0    374\n",
      "1    115\n",
      "2     39\n",
      "3     21\n",
      "Name: count, dtype: int64\n"
     ]
    },
    {
     "data": {
      "image/png": "[encoded data removed]",
      "text/plain": [
       "<Figure size 400x300 with 1 Axes>"
      ]
     },
     "metadata": {},
     "output_type": "display_data"
    }
   ],
   "source": [
    "bar_plot(df, \"Family Size Group\")"
   ]
  },
  {
   "cell_type": "markdown",
   "id": "0f62339a-5923-4e05-9f96-30fdf2580cca",
   "metadata": {},
   "source": [
    "Passengers traveling alone (Group 0) had the lowest survival rate (30%), while those with small families (2–4 members, Group 1) had the highest (56%).\n",
    "\n",
    "Larger families (Groups 2 & 3) showed decreasing survival rates, likely due to challenges in staying together during evacuation."
   ]
  },
  {
   "cell_type": "markdown",
   "id": "9236f5a4-efd3-47f7-877d-36b9bd7e5764",
   "metadata": {},
   "source": [
    "### Creating fare per person"
   ]
  },
  {
   "cell_type": "code",
   "execution_count": 156,
   "id": "3d6893ec-5234-4702-8b2e-32000bbf79e3",
   "metadata": {},
   "outputs": [],
   "source": [
    "df[\"Fare per Person\"] = df[\"Fare\"] / df[\"Family Size\"]"
   ]
  },
  {
   "cell_type": "markdown",
   "id": "a5742f2b-5761-482b-822f-541ff7b07fa2",
   "metadata": {},
   "source": [
    "### Create is alone feature"
   ]
  },
  {
   "cell_type": "code",
   "execution_count": 157,
   "id": "836ac64e-ac16-4e44-aa67-b6fa73a662d1",
   "metadata": {},
   "outputs": [],
   "source": [
    "df['IsAlone'] = (df['Family Size'] == 1).astype(int)"
   ]
  },
  {
   "cell_type": "markdown",
   "id": "1fdd6e87-b010-460e-943f-6e681e0a4391",
   "metadata": {},
   "source": [
    "### Removing Unneccessary Columns"
   ]
  },
  {
   "cell_type": "code",
   "execution_count": 158,
   "id": "0148b025-5903-4d22-ad0f-5c5afeb6628d",
   "metadata": {},
   "outputs": [],
   "source": [
    "df.drop(columns=['PassengerId', 'Ticket', 'SibSp', 'Parch', 'Age', 'Fare', 'Family Size'], inplace=True)"
   ]
  },
  {
   "cell_type": "code",
   "execution_count": 159,
   "id": "8f0cf69d-c82a-4ada-a617-f2c2da3f9f6c",
   "metadata": {},
   "outputs": [
    {
     "data": {
      "text/html": [
       "<div>\n",
       "<style scoped>\n",
       "    .dataframe tbody tr th:only-of-type {\n",
       "        vertical-align: middle;\n",
       "    }\n",
       "\n",
       "    .dataframe tbody tr th {\n",
       "        vertical-align: top;\n",
       "    }\n",
       "\n",
       "    .dataframe thead th {\n",
       "        text-align: right;\n",
       "    }\n",
       "</style>\n",
       "<table border=\"1\" class=\"dataframe\">\n",
       "  <thead>\n",
       "    <tr style=\"text-align: right;\">\n",
       "      <th></th>\n",
       "      <th>Survived</th>\n",
       "      <th>Pclass</th>\n",
       "      <th>Sex</th>\n",
       "      <th>Cabin</th>\n",
       "      <th>Embarked</th>\n",
       "      <th>Title</th>\n",
       "      <th>Age Group</th>\n",
       "      <th>Family Size Group</th>\n",
       "      <th>Fare per Person</th>\n",
       "      <th>IsAlone</th>\n",
       "    </tr>\n",
       "  </thead>\n",
       "  <tbody>\n",
       "    <tr>\n",
       "      <th>0</th>\n",
       "      <td>0</td>\n",
       "      <td>3</td>\n",
       "      <td>1</td>\n",
       "      <td>7</td>\n",
       "      <td>0</td>\n",
       "      <td>0</td>\n",
       "      <td>1</td>\n",
       "      <td>1</td>\n",
       "      <td>3.62500</td>\n",
       "      <td>0</td>\n",
       "    </tr>\n",
       "    <tr>\n",
       "      <th>1</th>\n",
       "      <td>1</td>\n",
       "      <td>1</td>\n",
       "      <td>0</td>\n",
       "      <td>2</td>\n",
       "      <td>1</td>\n",
       "      <td>2</td>\n",
       "      <td>3</td>\n",
       "      <td>1</td>\n",
       "      <td>35.64165</td>\n",
       "      <td>0</td>\n",
       "    </tr>\n",
       "    <tr>\n",
       "      <th>2</th>\n",
       "      <td>1</td>\n",
       "      <td>3</td>\n",
       "      <td>0</td>\n",
       "      <td>7</td>\n",
       "      <td>0</td>\n",
       "      <td>1</td>\n",
       "      <td>1</td>\n",
       "      <td>0</td>\n",
       "      <td>7.92500</td>\n",
       "      <td>1</td>\n",
       "    </tr>\n",
       "  </tbody>\n",
       "</table>\n",
       "</div>"
      ],
      "text/plain": [
       "   Survived  Pclass  Sex  Cabin  Embarked  Title  Age Group  \\\n",
       "0         0       3    1      7         0      0          1   \n",
       "1         1       1    0      2         1      2          3   \n",
       "2         1       3    0      7         0      1          1   \n",
       "\n",
       "   Family Size Group  Fare per Person  IsAlone  \n",
       "0                  1          3.62500        0  \n",
       "1                  1         35.64165        0  \n",
       "2                  0          7.92500        1  "
      ]
     },
     "execution_count": 159,
     "metadata": {},
     "output_type": "execute_result"
    }
   ],
   "source": [
    "df.head(3)"
   ]
  },
  {
   "cell_type": "markdown",
   "id": "61df50a9-980e-49bb-91ef-6a45ef718268",
   "metadata": {},
   "source": [
    "# Spliting the Data"
   ]
  },
  {
   "cell_type": "code",
   "execution_count": 160,
   "id": "23d2a63d-1479-40d8-8de1-c4802b83ec65",
   "metadata": {},
   "outputs": [],
   "source": [
    "X = df.drop(columns=\"Survived\")\n",
    "y = df[\"Survived\"]"
   ]
  },
  {
   "cell_type": "markdown",
   "id": "b47a72c6-2c70-433a-b754-56ceff4e8956",
   "metadata": {},
   "source": [
    "We use scaling to standardize feature values so models can learn more effectively and converge faster."
   ]
  },
  {
   "cell_type": "code",
   "execution_count": 161,
   "id": "2b540965-0baa-42bb-ba71-984888756779",
   "metadata": {},
   "outputs": [],
   "source": [
    "scaler = StandardScaler()\n",
    "X_scaled = scaler.fit_transform(X)"
   ]
  },
  {
   "cell_type": "code",
   "execution_count": 162,
   "id": "70ebd103-4ac8-46e0-8fae-9c0a6ce8a16a",
   "metadata": {},
   "outputs": [],
   "source": [
    "from sklearn.model_selection import train_test_split\n",
    "\n",
    "X_train, X_test, y_train, y_test = train_test_split(X_scaled, y, test_size=0.2, random_state=485, stratify = y)"
   ]
  },
  {
   "cell_type": "markdown",
   "id": "400486af-9b79-4181-a5e5-d32b101199d0",
   "metadata": {},
   "source": [
    "# Modeling\n",
    "\n",
    "### We are selecting the best model\n",
    "Comparing models using 10-fold cross-validation for robustness."
   ]
  },
  {
   "cell_type": "code",
   "execution_count": 163,
   "id": "feeaf321-d026-4993-bf4e-a98db106105d",
   "metadata": {},
   "outputs": [],
   "source": [
    "# Importing Classifier Modules\n",
    "from sklearn.neighbors import KNeighborsClassifier\n",
    "from sklearn.tree import DecisionTreeClassifier\n",
    "from sklearn.ensemble import RandomForestClassifier, GradientBoostingClassifier\n",
    "from sklearn.naive_bayes import GaussianNB\n",
    "from sklearn.svm import SVC"
   ]
  },
  {
   "cell_type": "markdown",
   "id": "916ebcce-e1ff-4c0b-8403-c567d209b852",
   "metadata": {},
   "source": [
    "### Cross Validation(k-fold)"
   ]
  },
  {
   "cell_type": "code",
   "execution_count": 164,
   "id": "af83560c-da1e-4ecc-a2d0-cecbddc89773",
   "metadata": {},
   "outputs": [],
   "source": [
    "from sklearn.model_selection import KFold\n",
    "from sklearn.model_selection import cross_val_score\n",
    "k_fold = KFold(n_splits=10, shuffle=True, random_state=0)"
   ]
  },
  {
   "cell_type": "code",
   "execution_count": 165,
   "id": "ddd00d01-b129-4b80-80d5-30c891273c82",
   "metadata": {},
   "outputs": [
    {
     "name": "stdout",
     "output_type": "stream",
     "text": [
      "Average Accuracy of Random Forest model is :, 0.8272\n",
      "Average Accuracy of KNN model is :, 0.7992\n",
      "Average Accuracy of Decision Tree model is :, 0.7794\n",
      "Average Accuracy of Naive Bayes model is :, 0.7754\n",
      "Average Accuracy of SVM model is :, 0.8244\n",
      "Average Accuracy of GBG model is :, 0.8216\n"
     ]
    }
   ],
   "source": [
    "models = [\n",
    "    (\"Random Forest\", RandomForestClassifier(n_estimators=200, max_depth=5, min_samples_split=4, class_weight='balanced', random_state=12)),\n",
    "    (\"KNN\", KNeighborsClassifier()),\n",
    "    (\"Decision Tree\", DecisionTreeClassifier(class_weight='balanced', random_state=10)),\n",
    "    (\"Naive Bayes\", GaussianNB()),\n",
    "    (\"SVM\", SVC(probability=True, class_weight='balanced', random_state=10)),\n",
    "    (\"GBG\", GradientBoostingClassifier(n_estimators=100, random_state=10))\n",
    "]\n",
    "\n",
    "for name, model in models:\n",
    "    score = cross_val_score(model, X_train, y_train, cv=k_fold, scoring='accuracy')\n",
    "    print(f\"Average Accuracy of {name} model is :, {score.mean():.4f}\")\n"
   ]
  },
  {
   "cell_type": "markdown",
   "id": "7aa90331-e6ee-409d-8c09-ab48da020204",
   "metadata": {},
   "source": [
    "### Random Forest Classifier is Working better"
   ]
  },
  {
   "cell_type": "code",
   "execution_count": 166,
   "id": "31118229-02e7-42ee-ad42-36f54fce420e",
   "metadata": {},
   "outputs": [],
   "source": [
    "RFC = RandomForestClassifier(n_estimators=200, max_depth=5, min_samples_split=4, class_weight='balanced', random_state=10)\n",
    "\n",
    "RFC.fit(X_train, y_train)\n",
    "\n",
    "y_pred = RFC.predict(X_test)"
   ]
  },
  {
   "cell_type": "markdown",
   "id": "0633d49d-1cff-49ed-982c-b3c47249edce",
   "metadata": {},
   "source": [
    "# Evalution of the Model"
   ]
  },
  {
   "cell_type": "code",
   "execution_count": 167,
   "id": "fecc9a76-22b4-4253-be1c-3e3f531926e1",
   "metadata": {},
   "outputs": [
    {
     "name": "stdout",
     "output_type": "stream",
     "text": [
      "              precision    recall  f1-score   support\n",
      "\n",
      "           0       0.85      0.85      0.85       110\n",
      "           1       0.76      0.75      0.76        69\n",
      "\n",
      "    accuracy                           0.82       179\n",
      "   macro avg       0.81      0.80      0.80       179\n",
      "weighted avg       0.82      0.82      0.82       179\n",
      "\n"
     ]
    }
   ],
   "source": [
    "from sklearn.metrics import classification_report, accuracy_score, confusion_matrix\n",
    "\n",
    "print(classification_report(y_test, y_pred))"
   ]
  },
  {
   "cell_type": "code",
   "execution_count": 168,
   "id": "5ac5798b-0a96-40a6-85f1-1fb1447ad70b",
   "metadata": {},
   "outputs": [
    {
     "name": "stdout",
     "output_type": "stream",
     "text": [
      "The Confusion Matrix is as :\n",
      "\n",
      " [[94 16]\n",
      " [17 52]] \n",
      "\n",
      "\n"
     ]
    },
    {
     "data": {
      "image/png": "[encoded data removed]",
      "text/plain": [
       "<Figure size 500x400 with 2 Axes>"
      ]
     },
     "metadata": {},
     "output_type": "display_data"
    }
   ],
   "source": [
    "conf_mat = confusion_matrix(y_test, y_pred)\n",
    "\n",
    "print(\"The Confusion Matrix is as :\\n\\n\",conf_mat, \"\\n\\n\")\n",
    "plt.figure(figsize=(5, 4))  \n",
    "sns.heatmap(conf_mat, annot=True, fmt='d', cmap='Blues',\n",
    "            xticklabels=['Predicted: Not Survived', 'Predicted: Survived'],\n",
    "            yticklabels=['Actual: Not Survived', 'Actual: Survived'])\n",
    "\n",
    "plt.title('Confusion Matrix')\n",
    "plt.xlabel('Predicted')\n",
    "plt.ylabel('Actual')\n",
    "plt.tight_layout()\n",
    "plt.show()"
   ]
  },
  {
   "cell_type": "markdown",
   "id": "a52656b3-554d-4f8a-8450-884141de46a6",
   "metadata": {},
   "source": [
    "# Conclusion \n",
    "\n",
    "### Model Performance Summary\n",
    "The machine learning model built to predict Titanic passenger survival performs reasonably well, achieving an overall accuracy of 82%. It shows particularly strong results in identifying passengers who did not survive (class 0), with both precision and recall scores of 85%. This means when the model predicts someone didn't survive, it's correct 85% of the time, and it successfully identifies 85% of all actual non-survivors.\n",
    "\n",
    "However, the model is slightly less effective at predicting survivors (class 1). While it still maintains decent performance with 76% precision and 75% recall, this indicates room for improvement. The model misses about 25% of actual survivors, incorrectly labeling them as non-survivors.\n",
    "\n",
    "The confusion matrix shows:\n",
    "\n",
    "True Negatives (94): Correctly predicted non-survivors (model said \"died\" and they actually died).\n",
    "False Positives (16): Incorrectly predicted as survivors (model said \"survived\" but they actually died).\n",
    "False Negatives (17): Incorrectly predicted as non-survivors (model said \"died\" but they actually survived).\n",
    "True Positives (52): Correctly predicted survivors (model said \"survived\" and they did).\n",
    "\n",
    "Overall, the model demonstrates that machine learning can effectively uncover patterns in historical survival data, with women, children, and higher-class passengers being more likely to survive - findings that align with known historical accounts of the disaster. The current implementation provides a solid foundation that could be enhanced with more sophisticated techniques."
   ]
  }
 ],
 "metadata": {
  "kernelspec": {
   "display_name": "Python 3 (ipykernel)",
   "language": "python",
   "name": "python3"
  },
  "language_info": {
   "codemirror_mode": {
    "name": "ipython",
    "version": 3
   },
   "file_extension": ".py",
   "mimetype": "text/x-python",
   "name": "python",
   "nbconvert_exporter": "python",
   "pygments_lexer": "ipython3",
   "version": "3.11.5"
  }
 },
 "nbformat": 4,
 "nbformat_minor": 5
}
