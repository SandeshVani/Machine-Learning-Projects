{
 "cells": [
  {
   "cell_type": "markdown",
   "id": "4307dada-b6d9-4925-8935-e61acc3eecf2",
   "metadata": {},
   "source": [
    "# TelComm Churn Data Analysis"
   ]
  },
  {
   "cell_type": "markdown",
   "id": "79547bba-243e-4508-abf6-484a1d3bb6bd",
   "metadata": {},
   "source": [
    "## Importing Packages and Data Loading"
   ]
  },
  {
   "cell_type": "code",
   "execution_count": 1,
   "id": "82c78962-8ee8-494d-853f-5866a02ad6c1",
   "metadata": {},
   "outputs": [],
   "source": [
    "import pandas as pd\n",
    "import numpy as np\n",
    "import matplotlib.pyplot as plt\n",
    "import seaborn as sns"
   ]
  },
  {
   "cell_type": "code",
   "execution_count": 2,
   "id": "129e7a4a-9238-47f8-8b4a-a5f057b10b2f",
   "metadata": {},
   "outputs": [],
   "source": [
    "# --- Settings ---\n",
    "pd.set_option('display.max_columns', None)\n",
    "\n",
    "import warnings\n",
    "warnings.filterwarnings(\"ignore\", category=FutureWarning)"
   ]
  },
  {
   "cell_type": "code",
   "execution_count": 3,
   "id": "5a2cdaba-2844-4e9f-9ddc-f51b088a3fe8",
   "metadata": {},
   "outputs": [
    {
     "name": "stdout",
     "output_type": "stream",
     "text": [
      "Data loaded successfully.\n"
     ]
    }
   ],
   "source": [
    "# --- Load Data (Ensure 'Customer_Data.csv' is in the same directory) ---\n",
    "try:\n",
    "    customer_data = pd.read_csv(\"Customer_Data.csv\")\n",
    "    print(\"Data loaded successfully.\")\n",
    "except FileNotFoundError:\n",
    "    print(\"Error: 'Customer_Data.csv' not found. Please ensure the file is in the correct directory.\")\n",
    "    exit()"
   ]
  },
  {
   "cell_type": "markdown",
   "id": "ff3bac9f-f2f2-48ea-b40b-e66dd0308377",
   "metadata": {},
   "source": [
    "## Data Study"
   ]
  },
  {
   "cell_type": "code",
   "execution_count": 4,
   "id": "c344cf45-a0d3-40ae-ae7a-85c513507777",
   "metadata": {},
   "outputs": [
    {
     "data": {
      "text/html": [
       "<div>\n",
       "<style scoped>\n",
       "    .dataframe tbody tr th:only-of-type {\n",
       "        vertical-align: middle;\n",
       "    }\n",
       "\n",
       "    .dataframe tbody tr th {\n",
       "        vertical-align: top;\n",
       "    }\n",
       "\n",
       "    .dataframe thead th {\n",
       "        text-align: right;\n",
       "    }\n",
       "</style>\n",
       "<table border=\"1\" class=\"dataframe\">\n",
       "  <thead>\n",
       "    <tr style=\"text-align: right;\">\n",
       "      <th></th>\n",
       "      <th>Customer_ID</th>\n",
       "      <th>Gender</th>\n",
       "      <th>Age</th>\n",
       "      <th>Married</th>\n",
       "      <th>State</th>\n",
       "      <th>Number_of_Referrals</th>\n",
       "      <th>Tenure_in_Months</th>\n",
       "      <th>Value_Deal</th>\n",
       "      <th>Phone_Service</th>\n",
       "      <th>Multiple_Lines</th>\n",
       "      <th>Internet_Service</th>\n",
       "      <th>Internet_Type</th>\n",
       "      <th>Online_Security</th>\n",
       "      <th>Online_Backup</th>\n",
       "      <th>Device_Protection_Plan</th>\n",
       "      <th>Premium_Support</th>\n",
       "      <th>Streaming_TV</th>\n",
       "      <th>Streaming_Movies</th>\n",
       "      <th>Streaming_Music</th>\n",
       "      <th>Unlimited_Data</th>\n",
       "      <th>Contract</th>\n",
       "      <th>Paperless_Billing</th>\n",
       "      <th>Payment_Method</th>\n",
       "      <th>Monthly_Charge</th>\n",
       "      <th>Total_Charges</th>\n",
       "      <th>Total_Refunds</th>\n",
       "      <th>Total_Extra_Data_Charges</th>\n",
       "      <th>Total_Long_Distance_Charges</th>\n",
       "      <th>Total_Revenue</th>\n",
       "      <th>Customer_Status</th>\n",
       "      <th>Churn_Category</th>\n",
       "      <th>Churn_Reason</th>\n",
       "    </tr>\n",
       "  </thead>\n",
       "  <tbody>\n",
       "    <tr>\n",
       "      <th>0</th>\n",
       "      <td>19877-DEL</td>\n",
       "      <td>Male</td>\n",
       "      <td>35</td>\n",
       "      <td>No</td>\n",
       "      <td>Delhi</td>\n",
       "      <td>7</td>\n",
       "      <td>27</td>\n",
       "      <td>NaN</td>\n",
       "      <td>Yes</td>\n",
       "      <td>No</td>\n",
       "      <td>Yes</td>\n",
       "      <td>Cable</td>\n",
       "      <td>No</td>\n",
       "      <td>Yes</td>\n",
       "      <td>No</td>\n",
       "      <td>Yes</td>\n",
       "      <td>Yes</td>\n",
       "      <td>No</td>\n",
       "      <td>No</td>\n",
       "      <td>Yes</td>\n",
       "      <td>One Year</td>\n",
       "      <td>Yes</td>\n",
       "      <td>Credit Card</td>\n",
       "      <td>65.6</td>\n",
       "      <td>593.3</td>\n",
       "      <td>0.00</td>\n",
       "      <td>0</td>\n",
       "      <td>381.51</td>\n",
       "      <td>974.81</td>\n",
       "      <td>Stayed</td>\n",
       "      <td>NaN</td>\n",
       "      <td>NaN</td>\n",
       "    </tr>\n",
       "    <tr>\n",
       "      <th>1</th>\n",
       "      <td>58353-MAH</td>\n",
       "      <td>Female</td>\n",
       "      <td>45</td>\n",
       "      <td>Yes</td>\n",
       "      <td>Maharashtra</td>\n",
       "      <td>14</td>\n",
       "      <td>13</td>\n",
       "      <td>NaN</td>\n",
       "      <td>Yes</td>\n",
       "      <td>Yes</td>\n",
       "      <td>Yes</td>\n",
       "      <td>Cable</td>\n",
       "      <td>No</td>\n",
       "      <td>No</td>\n",
       "      <td>No</td>\n",
       "      <td>No</td>\n",
       "      <td>No</td>\n",
       "      <td>Yes</td>\n",
       "      <td>Yes</td>\n",
       "      <td>No</td>\n",
       "      <td>Month-to-Month</td>\n",
       "      <td>No</td>\n",
       "      <td>Credit Card</td>\n",
       "      <td>-4.0</td>\n",
       "      <td>542.4</td>\n",
       "      <td>38.33</td>\n",
       "      <td>10</td>\n",
       "      <td>96.21</td>\n",
       "      <td>610.28</td>\n",
       "      <td>Stayed</td>\n",
       "      <td>NaN</td>\n",
       "      <td>NaN</td>\n",
       "    </tr>\n",
       "  </tbody>\n",
       "</table>\n",
       "</div>"
      ],
      "text/plain": [
       "  Customer_ID  Gender  Age Married        State  Number_of_Referrals  \\\n",
       "0   19877-DEL    Male   35      No        Delhi                    7   \n",
       "1   58353-MAH  Female   45     Yes  Maharashtra                   14   \n",
       "\n",
       "   Tenure_in_Months Value_Deal Phone_Service Multiple_Lines Internet_Service  \\\n",
       "0                27        NaN           Yes             No              Yes   \n",
       "1                13        NaN           Yes            Yes              Yes   \n",
       "\n",
       "  Internet_Type Online_Security Online_Backup Device_Protection_Plan  \\\n",
       "0         Cable              No           Yes                     No   \n",
       "1         Cable              No            No                     No   \n",
       "\n",
       "  Premium_Support Streaming_TV Streaming_Movies Streaming_Music  \\\n",
       "0             Yes          Yes               No              No   \n",
       "1              No           No              Yes             Yes   \n",
       "\n",
       "  Unlimited_Data        Contract Paperless_Billing Payment_Method  \\\n",
       "0            Yes        One Year               Yes    Credit Card   \n",
       "1             No  Month-to-Month                No    Credit Card   \n",
       "\n",
       "   Monthly_Charge  Total_Charges  Total_Refunds  Total_Extra_Data_Charges  \\\n",
       "0            65.6          593.3           0.00                         0   \n",
       "1            -4.0          542.4          38.33                        10   \n",
       "\n",
       "   Total_Long_Distance_Charges  Total_Revenue Customer_Status Churn_Category  \\\n",
       "0                       381.51         974.81          Stayed            NaN   \n",
       "1                        96.21         610.28          Stayed            NaN   \n",
       "\n",
       "  Churn_Reason  \n",
       "0          NaN  \n",
       "1          NaN  "
      ]
     },
     "execution_count": 4,
     "metadata": {},
     "output_type": "execute_result"
    }
   ],
   "source": [
    "customer_data.head(2)"
   ]
  },
  {
   "cell_type": "code",
   "execution_count": 7,
   "id": "6eba0a28-5e40-4172-97e5-264ec1b28872",
   "metadata": {},
   "outputs": [
    {
     "name": "stdout",
     "output_type": "stream",
     "text": [
      "(6418, 32)\n"
     ]
    }
   ],
   "source": [
    "print(customer_data.shape)"
   ]
  },
  {
   "cell_type": "code",
   "execution_count": 8,
   "id": "55b1f34c-fcaa-44ed-9765-22d528f7fbbf",
   "metadata": {
    "scrolled": true
   },
   "outputs": [
    {
     "name": "stdout",
     "output_type": "stream",
     "text": [
      "<class 'pandas.core.frame.DataFrame'>\n",
      "RangeIndex: 6418 entries, 0 to 6417\n",
      "Data columns (total 32 columns):\n",
      " #   Column                       Non-Null Count  Dtype  \n",
      "---  ------                       --------------  -----  \n",
      " 0   Customer_ID                  6418 non-null   object \n",
      " 1   Gender                       6418 non-null   object \n",
      " 2   Age                          6418 non-null   int64  \n",
      " 3   Married                      6418 non-null   object \n",
      " 4   State                        6418 non-null   object \n",
      " 5   Number_of_Referrals          6418 non-null   int64  \n",
      " 6   Tenure_in_Months             6418 non-null   int64  \n",
      " 7   Value_Deal                   2870 non-null   object \n",
      " 8   Phone_Service                6418 non-null   object \n",
      " 9   Multiple_Lines               5796 non-null   object \n",
      " 10  Internet_Service             6418 non-null   object \n",
      " 11  Internet_Type                5028 non-null   object \n",
      " 12  Online_Security              5028 non-null   object \n",
      " 13  Online_Backup                5028 non-null   object \n",
      " 14  Device_Protection_Plan       5028 non-null   object \n",
      " 15  Premium_Support              5028 non-null   object \n",
      " 16  Streaming_TV                 5028 non-null   object \n",
      " 17  Streaming_Movies             5028 non-null   object \n",
      " 18  Streaming_Music              5028 non-null   object \n",
      " 19  Unlimited_Data               5028 non-null   object \n",
      " 20  Contract                     6418 non-null   object \n",
      " 21  Paperless_Billing            6418 non-null   object \n",
      " 22  Payment_Method               6418 non-null   object \n",
      " 23  Monthly_Charge               6418 non-null   float64\n",
      " 24  Total_Charges                6418 non-null   float64\n",
      " 25  Total_Refunds                6418 non-null   float64\n",
      " 26  Total_Extra_Data_Charges     6418 non-null   int64  \n",
      " 27  Total_Long_Distance_Charges  6418 non-null   float64\n",
      " 28  Total_Revenue                6418 non-null   float64\n",
      " 29  Customer_Status              6418 non-null   object \n",
      " 30  Churn_Category               1732 non-null   object \n",
      " 31  Churn_Reason                 1732 non-null   object \n",
      "dtypes: float64(5), int64(4), object(23)\n",
      "memory usage: 1.6+ MB\n"
     ]
    }
   ],
   "source": [
    "customer_data.info()"
   ]
  },
  {
   "cell_type": "code",
   "execution_count": 9,
   "id": "8290ede9-6203-404b-bf21-f29d5a4d4681",
   "metadata": {
    "scrolled": true
   },
   "outputs": [
    {
     "data": {
      "text/plain": [
       "Customer_ID                       0\n",
       "Gender                            0\n",
       "Age                               0\n",
       "Married                           0\n",
       "State                             0\n",
       "Number_of_Referrals               0\n",
       "Tenure_in_Months                  0\n",
       "Value_Deal                     3548\n",
       "Phone_Service                     0\n",
       "Multiple_Lines                  622\n",
       "Internet_Service                  0\n",
       "Internet_Type                  1390\n",
       "Online_Security                1390\n",
       "Online_Backup                  1390\n",
       "Device_Protection_Plan         1390\n",
       "Premium_Support                1390\n",
       "Streaming_TV                   1390\n",
       "Streaming_Movies               1390\n",
       "Streaming_Music                1390\n",
       "Unlimited_Data                 1390\n",
       "Contract                          0\n",
       "Paperless_Billing                 0\n",
       "Payment_Method                    0\n",
       "Monthly_Charge                    0\n",
       "Total_Charges                     0\n",
       "Total_Refunds                     0\n",
       "Total_Extra_Data_Charges          0\n",
       "Total_Long_Distance_Charges       0\n",
       "Total_Revenue                     0\n",
       "Customer_Status                   0\n",
       "Churn_Category                 4686\n",
       "Churn_Reason                   4686\n",
       "dtype: int64"
      ]
     },
     "execution_count": 9,
     "metadata": {},
     "output_type": "execute_result"
    }
   ],
   "source": [
    "customer_data.isnull().sum()"
   ]
  },
  {
   "cell_type": "markdown",
   "id": "676e50cf-7b9a-4257-b113-44019034d4a8",
   "metadata": {},
   "source": [
    "---\n",
    "### 2. DATA CLEANING AND PRE-PROCESSING\n",
    "---"
   ]
  },
  {
   "cell_type": "code",
   "execution_count": 5,
   "id": "3d19c154-b49b-4254-a720-d3a0c4c3fb54",
   "metadata": {},
   "outputs": [
    {
     "name": "stdout",
     "output_type": "stream",
     "text": [
      "\n",
      "--- Starting Data Cleaning ---\n",
      "Data cleaning complete.\n"
     ]
    }
   ],
   "source": [
    "print(\"\\n--- Starting Data Cleaning ---\")\n",
    "# Drop columns with too many missing values (>40%) or that are irrelevant\n",
    "customer_data.drop(columns=['Churn_Category', 'Churn_Reason', 'Customer_ID'], inplace=True)\n",
    "\n",
    "\n",
    "# Imputing Missing Values\n",
    "customer_data[\"Value_Deal\"].fillna(\"No Deal\", inplace=True)\n",
    "\n",
    "cols_to_fill_no = ['Internet_Type', 'Online_Security', 'Online_Backup',\n",
    "                'Device_Protection_Plan', 'Premium_Support', 'Streaming_TV',\n",
    "                'Streaming_Movies', 'Streaming_Music', 'Unlimited_Data']\n",
    "\n",
    "for col in cols_to_fill_no:\n",
    "    customer_data[col] = customer_data[col].apply(lambda x: 'No' if pd.isnull(x) else x)\n",
    "\n",
    "\n",
    "# Filling with mode for Multiple_Lines\n",
    "customer_data['Multiple_Lines'].fillna(customer_data['Multiple_Lines'].mode()[0], inplace=True)\n",
    "\n",
    "# Filter out customers who have just joined as their churn status is not yet determined\n",
    "customer_data = customer_data[customer_data[\"Customer_Status\"] != \"Joined\"].copy()\n",
    "\n",
    "# Drop redundant revenue column and low-signal feature\n",
    "customer_data.drop(columns=['Total_Revenue', 'Total_Extra_Data_Charges'], inplace=True)\n",
    "\n",
    "# Map target variable\n",
    "customer_data['Customer_Status'] = customer_data['Customer_Status'].map({\"Churned\": 1, \"Stayed\": 0})\n",
    "print(\"Data cleaning complete.\")"
   ]
  },
  {
   "cell_type": "code",
   "execution_count": 18,
   "id": "ac32993b-d0d1-43f2-93c3-705918621133",
   "metadata": {
    "scrolled": true
   },
   "outputs": [
    {
     "data": {
      "text/plain": [
       "Gender                         0\n",
       "Age                            0\n",
       "Married                        0\n",
       "State                          0\n",
       "Number_of_Referrals            0\n",
       "Tenure_in_Months               0\n",
       "Value_Deal                     0\n",
       "Phone_Service                  0\n",
       "Multiple_Lines                 0\n",
       "Internet_Service               0\n",
       "Internet_Type                  0\n",
       "Online_Security                0\n",
       "Online_Backup                  0\n",
       "Device_Protection_Plan         0\n",
       "Premium_Support                0\n",
       "Streaming_TV                   0\n",
       "Streaming_Movies               0\n",
       "Streaming_Music                0\n",
       "Unlimited_Data                 0\n",
       "Contract                       0\n",
       "Paperless_Billing              0\n",
       "Payment_Method                 0\n",
       "Monthly_Charge                 0\n",
       "Total_Charges                  0\n",
       "Total_Refunds                  0\n",
       "Total_Long_Distance_Charges    0\n",
       "Customer_Status                0\n",
       "dtype: int64"
      ]
     },
     "execution_count": 18,
     "metadata": {},
     "output_type": "execute_result"
    }
   ],
   "source": [
    "customer_data.isnull().sum()"
   ]
  },
  {
   "cell_type": "markdown",
   "id": "41888031-f4f6-497d-a88e-572071d28e58",
   "metadata": {},
   "source": [
    "---\n",
    "### 3. Exploratory Data Analysis (EDA)\n",
    "---"
   ]
  },
  {
   "cell_type": "code",
   "execution_count": 35,
   "id": "6fca2da5-37af-44ec-9fbd-1ecc556a6e0c",
   "metadata": {},
   "outputs": [],
   "source": [
    "def bar_plot(df, feature) :\n",
    "    churn = df[df[\"Customer_Status\"] == 'Churned'][feature].value_counts()\n",
    "    stayed = df[df[\"Customer_Status\"] == 'Stayed'][feature].value_counts()\n",
    "    df = pd.DataFrame([churn, stayed])\n",
    "    df.index = ['Churned', 'Stayed']\n",
    "    print(\"Churned :\\n\", churn)\n",
    "    print(\"Stayed :\\n\", stayed)\n",
    "    df.plot(kind=\"bar\", stacked = True, figsize=(4, 3), colormap='Set2')\n",
    "    plt.title(f\"{feature} wise Distribution\")\n",
    "    plt.xlabel(feature)\n",
    "    plt.ylabel(\"Status\")\n",
    "    plt.xticks(rotation=0)\n",
    "    plt.legend()\n",
    "    plt.tight_layout()\n",
    "    plt.show()\n",
    "\n",
    "cat_cols = ['Customer_Status', 'Gender', 'Married', 'Internet_Type', 'Contract', 'Payment_Method']\n"
   ]
  },
  {
   "cell_type": "code",
   "execution_count": 36,
   "id": "86658525-1872-43d4-81d0-a3784f7e5f46",
   "metadata": {
    "scrolled": true
   },
   "outputs": [
    {
     "name": "stdout",
     "output_type": "stream",
     "text": [
      "Churned :\n",
      " Customer_Status\n",
      "Churned    1732\n",
      "Name: count, dtype: int64\n",
      "Stayed :\n",
      " Customer_Status\n",
      "Stayed    4275\n",
      "Name: count, dtype: int64\n"
     ]
    },
    {
     "data": {
      "image/png": "[encoded data removed]",
      "text/plain": [
       "<Figure size 400x300 with 1 Axes>"
      ]
     },
     "metadata": {},
     "output_type": "display_data"
    },
    {
     "name": "stdout",
     "output_type": "stream",
     "text": [
      "Churned :\n",
      " Gender\n",
      "Female    1111\n",
      "Male       621\n",
      "Name: count, dtype: int64\n",
      "Stayed :\n",
      " Gender\n",
      "Female    2668\n",
      "Male      1607\n",
      "Name: count, dtype: int64\n"
     ]
    },
    {
     "data": {
      "image/png": "[encoded data removed]",
      "text/plain": [
       "<Figure size 400x300 with 1 Axes>"
      ]
     },
     "metadata": {},
     "output_type": "display_data"
    },
    {
     "name": "stdout",
     "output_type": "stream",
     "text": [
      "Churned :\n",
      " Married\n",
      "No     883\n",
      "Yes    849\n",
      "Name: count, dtype: int64\n",
      "Stayed :\n",
      " Married\n",
      "Yes    2146\n",
      "No     2129\n",
      "Name: count, dtype: int64\n"
     ]
    },
    {
     "data": {
      "image/png": "[encoded data removed]",
      "text/plain": [
       "<Figure size 400x300 with 1 Axes>"
      ]
     },
     "metadata": {},
     "output_type": "display_data"
    },
    {
     "name": "stdout",
     "output_type": "stream",
     "text": [
      "Churned :\n",
      " Internet_Type\n",
      "Fiber Optic    1136\n",
      "DSL             291\n",
      "Cable           196\n",
      "No              109\n",
      "Name: count, dtype: int64\n",
      "Stayed :\n",
      " Internet_Type\n",
      "Fiber Optic    1539\n",
      "No             1114\n",
      "DSL            1107\n",
      "Cable           515\n",
      "Name: count, dtype: int64\n"
     ]
    },
    {
     "data": {
      "image/png": "[encoded data removed]",
      "text/plain": [
       "<Figure size 400x300 with 1 Axes>"
      ]
     },
     "metadata": {},
     "output_type": "display_data"
    },
    {
     "name": "stdout",
     "output_type": "stream",
     "text": [
      "Churned :\n",
      " Contract\n",
      "Month-to-Month    1529\n",
      "One Year           156\n",
      "Two Year            47\n",
      "Name: count, dtype: int64\n",
      "Stayed :\n",
      " Contract\n",
      "Two Year          1652\n",
      "Month-to-Month    1390\n",
      "One Year          1233\n",
      "Name: count, dtype: int64\n"
     ]
    },
    {
     "data": {
      "image/png": "[encoded data removed]",
      "text/plain": [
       "<Figure size 400x300 with 1 Axes>"
      ]
     },
     "metadata": {},
     "output_type": "display_data"
    },
    {
     "name": "stdout",
     "output_type": "stream",
     "text": [
      "Churned :\n",
      " Payment_Method\n",
      "Bank Withdrawal    1231\n",
      "Credit Card         369\n",
      "Mailed Check        132\n",
      "Name: count, dtype: int64\n",
      "Stayed :\n",
      " Payment_Method\n",
      "Bank Withdrawal    2184\n",
      "Credit Card        1915\n",
      "Mailed Check        176\n",
      "Name: count, dtype: int64\n"
     ]
    },
    {
     "data": {
      "image/png": "[encoded data removed]",
      "text/plain": [
       "<Figure size 400x300 with 1 Axes>"
      ]
     },
     "metadata": {},
     "output_type": "display_data"
    }
   ],
   "source": [
    "for i in cat_cols :\n",
    "    bar_plot(customer_data, i)"
   ]
  },
  {
   "cell_type": "markdown",
   "id": "4072fb0b-d840-437e-8c24-93df273d6fb4",
   "metadata": {},
   "source": [
    "### Conclusion – Customer Churn Analysis\n",
    "\n",
    "Based on the distribution of customer attributes across churned and retained segments:\n",
    "\n",
    "    Gender:\n",
    "        More females churned (64%) compared to males.\n",
    "        However, the gender distribution in the stayed group also favors females, so gender alone is not a strong churn indicator.\n",
    "\n",
    "    Marital Status:\n",
    "        Churn rate is slightly higher among unmarried customers.\n",
    "        Among those who stayed, the number of married and unmarried customers is almost equal, suggesting marital status has a mild influence.\n",
    "\n",
    "    Internet Type:\n",
    "        Most churned customers had Fiber Optic connections (65%).\n",
    "        In contrast, customers with no internet or DSL/Cable were less likely to churn.\n",
    "        This indicates Fiber Optic users are more likely to churn, possibly due to higher expectations or pricing issues.\n",
    "\n",
    "    Contract Type:\n",
    "        Month-to-Month contracts show a very high churn rate (88%).\n",
    "        On the other hand, long-term contracts (One/Two Year) have much lower churn, suggesting longer contracts retain customers better.\n",
    "\n",
    "    Payment Method:\n",
    "        Most churned customers used Bank Withdrawal (71%), while very few used Mailed Check.\n",
    "        Credit Card users tend to stay more, indicating secure and manageable payment options help reduce churn.\n",
    "\n",
    "Overall Insight:\n",
    "\n",
    "    Contract Type and Internet Type are strong churn indicators.\n",
    "    Customers with Month-to-Month contracts and Fiber Optic internet are the most at risk.\n",
    "    Improving customer experience for Fiber Optic users, offering incentives for long-term contracts, \n",
    "    and promoting stable payment methods like credit cards can   help reduce churn.\n",
    "\n",
    "    marital status has a mild influence."
   ]
  },
  {
   "cell_type": "code",
   "execution_count": 38,
   "id": "428b6ecf-3c6f-45f9-b93a-b32f07a7a053",
   "metadata": {},
   "outputs": [
    {
     "data": {
      "image/png": "[encoded data removed]",
      "text/plain": [
       "<Figure size 400x300 with 1 Axes>"
      ]
     },
     "metadata": {},
     "output_type": "display_data"
    }
   ],
   "source": [
    "# Tenure in Months Distribution\n",
    "\n",
    "plt.figure(figsize=(4, 3))\n",
    "plt.hist(customer_data['Tenure_in_Months'], bins=30, color='purple', edgecolor='black')\n",
    "plt.title('Tenure Distribution')\n",
    "plt.xlabel('Tenure (months)')\n",
    "plt.ylabel('Number of Customers')\n",
    "plt.grid(axis='y')\n",
    "plt.show()"
   ]
  },
  {
   "cell_type": "markdown",
   "id": "8f3d8fa4-f9e5-438c-966d-5faf5fd0fedb",
   "metadata": {},
   "source": [
    "# Tenure Distribution\n",
    "\n",
    "    There are spikes at early tenures like 1, 8, 16, 24, and 36 months.\n",
    "\n",
    "    This suggests many customers churn shortly after joining or around contract renewal points (monthly/annual).\n",
    "\n",
    "    Insight: Retention strategies should target new joiners and customers near common renewal periods."
   ]
  },
  {
   "cell_type": "code",
   "execution_count": 39,
   "id": "4de8171c-5ce8-4b04-895c-43f4b42fea6b",
   "metadata": {},
   "outputs": [
    {
     "data": {
      "image/png": "[encoded data removed]",
      "text/plain": [
       "<Figure size 1400x300 with 1 Axes>"
      ]
     },
     "metadata": {},
     "output_type": "display_data"
    }
   ],
   "source": [
    "plt.figure(figsize=(14, 3))\n",
    "sns.countplot(data=customer_data, x='State', hue='Customer_Status', order=customer_data['State'].value_counts().index)\n",
    "plt.xticks(rotation=45)\n",
    "plt.title('Customer Churn by State')\n",
    "plt.ylabel('Number of Customers')\n",
    "plt.xlabel('State')\n",
    "plt.tight_layout()\n",
    "plt.show()"
   ]
  },
  {
   "cell_type": "markdown",
   "id": "5086ef33-4e0a-4784-9eff-de2e41aabd82",
   "metadata": {},
   "source": [
    "---\n",
    "### 4. SPLIT DATA INTO TRAINING AND TESTING SETS \n",
    "---"
   ]
  },
  {
   "cell_type": "code",
   "execution_count": 6,
   "id": "4687fea0-22ab-4ba8-8bb0-103974f5ca7e",
   "metadata": {},
   "outputs": [
    {
     "name": "stdout",
     "output_type": "stream",
     "text": [
      "Data split complete.\n",
      "X_train shape: (4805, 26)\n",
      "X_test shape: (1202, 26)\n"
     ]
    }
   ],
   "source": [
    "from sklearn.model_selection import train_test_split\n",
    "\n",
    "# Define features (X) and target (y)\n",
    "X = customer_data.drop('Customer_Status', axis=1)\n",
    "y = customer_data['Customer_Status']\n",
    "\n",
    "# Split the data BEFORE any feature engineering that learns from the data\n",
    "X_train, X_test, y_train, y_test = train_test_split(X, y, test_size=0.2, random_state=42, stratify=y)\n",
    "\n",
    "print(\"Data split complete.\")\n",
    "print(\"X_train shape:\", X_train.shape)\n",
    "print(\"X_test shape:\", X_test.shape)"
   ]
  },
  {
   "cell_type": "markdown",
   "id": "2b47ac08-d538-4690-bebb-81b346eab905",
   "metadata": {},
   "source": [
    "---\n",
    "### 5. ADVANCED FEATURE ENGINEERING\n",
    "---"
   ]
  },
  {
   "cell_type": "code",
   "execution_count": 7,
   "id": "bdf0ce29-8b85-4a43-8d72-73ebe71c8591",
   "metadata": {},
   "outputs": [
    {
     "name": "stdout",
     "output_type": "stream",
     "text": [
      "\n",
      "Starting Correct Feature Engineering Process...\n",
      "1. Applying Frequency Encoding for 'State'...\n",
      "2. Applying One-Hot Encoding...\n",
      "3. Applying Binary Encoding...\n",
      "4. Applying Numerical Scaling...\n",
      "\n",
      "Feature Engineering complete. No data leakage occurred.\n"
     ]
    }
   ],
   "source": [
    "from sklearn.preprocessing import StandardScaler, LabelEncoder\n",
    "\n",
    "# --- Identify column types from the training set ---\n",
    "binary_cols = ['Gender', 'Married', 'Phone_Service', 'Multiple_Lines', 'Internet_Service',\n",
    "               'Online_Security', 'Online_Backup', 'Device_Protection_Plan', 'Premium_Support',\n",
    "               'Streaming_TV', 'Streaming_Movies', 'Streaming_Music', 'Unlimited_Data', 'Paperless_Billing']\n",
    "\n",
    "multiclass_cols = ['Contract', 'Value_Deal', 'Payment_Method', 'Internet_Type']\n",
    "\n",
    "# Note: We can get the numeric columns programmatically to avoid errors\n",
    "num_cols = X_train.select_dtypes(include=np.number).columns.tolist()\n",
    "\n",
    "print(\"\\nStarting Correct Feature Engineering Process...\")\n",
    "\n",
    "# --- A) Frequency Encoding for 'State' ---\n",
    "print(\"1. Applying Frequency Encoding for 'State'...\")\n",
    "# Learn the frequency counts from the training data ONLY\n",
    "state_counts = X_train['State'].value_counts().to_dict()\n",
    "\n",
    "# Apply the learned mapping to both train and test sets\n",
    "X_train['State_encoded'] = X_train['State'].map(state_counts)\n",
    "X_test['State_encoded'] = X_test['State'].map(state_counts)\n",
    "\n",
    "# Handle cases where a state in the test set was not in the training set\n",
    "X_test['State_encoded'].fillna(0, inplace=True) # Fill with 0 for unknown states\n",
    "\n",
    "# Drop the original 'State' column\n",
    "X_train.drop('State', axis=1, inplace=True)\n",
    "X_test.drop('State', axis=1, inplace=True)\n",
    "\n",
    "\n",
    "# --- B) One-Hot Encoding for Multiclass Columns ---\n",
    "print(\"2. Applying One-Hot Encoding...\")\n",
    "# Using pd.get_dummies correctly\n",
    "X_train = pd.get_dummies(X_train, columns=multiclass_cols, drop_first=True)\n",
    "X_test = pd.get_dummies(X_test, columns=multiclass_cols, drop_first=True)\n",
    "\n",
    "# Align columns to ensure both dataframes have the same dummy variables\n",
    "# This handles cases where a category is present in train but not in test, or vice-versa\n",
    "train_cols = X_train.columns\n",
    "test_cols = X_test.columns\n",
    "\n",
    "missing_in_test = set(train_cols) - set(test_cols)\n",
    "for c in missing_in_test:\n",
    "    X_test[c] = 0\n",
    "\n",
    "missing_in_train = set(test_cols) - set(train_cols)\n",
    "for c in missing_in_train:\n",
    "    X_train[c] = 0\n",
    "\n",
    "# Ensure the order of columns is the same\n",
    "X_test = X_test[train_cols]\n",
    "\n",
    "\n",
    "# --- C) Label Encoding for Binary Columns ---\n",
    "# Note: Using .map() is often safer and more explicit than LabelEncoder for binary features\n",
    "print(\"3. Applying Binary Encoding...\")\n",
    "for col in binary_cols:\n",
    "    # Create a mapping based on a common value (e.g., 'Yes')\n",
    "    # This avoids fitting an encoder and is more direct\n",
    "    mapper = {val: i for i, val in enumerate(X_train[col].unique())}\n",
    "    X_train[col] = X_train[col].map(mapper)\n",
    "    X_test[col] = X_test[col].map(mapper)\n",
    "    # Handle potential missing values in test set if a category didn't appear in train\n",
    "    X_test[col].fillna(-1, inplace=True) # Or another placeholder\n",
    "\n",
    "\n",
    "# --- D) Scaling Numerical Variables ---\n",
    "print(\"4. Applying Numerical Scaling...\")\n",
    "scaler = StandardScaler()\n",
    "\n",
    "# Fit the scaler on the training data ONLY\n",
    "scaler.fit(X_train[num_cols])\n",
    "\n",
    "# Transform both the training and testing data using the FITTED scaler\n",
    "X_train[num_cols] = scaler.transform(X_train[num_cols])\n",
    "X_test[num_cols] = scaler.transform(X_test[num_cols])\n",
    "\n",
    "print(\"\\nFeature Engineering complete. No data leakage occurred.\")"
   ]
  },
  {
   "cell_type": "markdown",
   "id": "a94dc772-36ca-4717-a28f-2bb31820cda7",
   "metadata": {},
   "source": [
    "---\n",
    "### 6. FEATURE SELECTION\n",
    "---"
   ]
  },
  {
   "cell_type": "code",
   "execution_count": 8,
   "id": "dbc58dd5-3b3c-41fc-9a06-3fecbeae5a3b",
   "metadata": {},
   "outputs": [
    {
     "name": "stdout",
     "output_type": "stream",
     "text": [
      "\n",
      "--- Performing Model-Based Feature Selection ---\n",
      "Features selected by RandomForest: ['Age', 'Married', 'Number_of_Referrals', 'Tenure_in_Months', 'Internet_Service', 'Online_Security', 'Premium_Support', 'Paperless_Billing', 'Monthly_Charge', 'Total_Charges', 'Total_Long_Distance_Charges', 'State_encoded', 'Contract_One Year', 'Contract_Two Year', 'Value_Deal_Deal 5', 'Payment_Method_Credit Card', 'Internet_Type_Fiber Optic']\n",
      "Selected training data shape: (4805, 17)\n"
     ]
    }
   ],
   "source": [
    "from sklearn.feature_selection import SelectFromModel\n",
    "from sklearn.ensemble import RandomForestClassifier\n",
    "\n",
    "print(\"\\n--- Performing Model-Based Feature Selection ---\")\n",
    "\n",
    "# Use a model (like RandomForest) to select features.\n",
    "# The `threshold='median'` will select the top 50% of features.\n",
    "# This model is ONLY used for feature selection and is fitted on training data.\n",
    "selection_model = RandomForestClassifier(n_estimators=100, random_state=42)\n",
    "\n",
    "selector = SelectFromModel(selection_model, threshold='median')\n",
    "\n",
    "# Fit and transform the training data\n",
    "selector.fit(X_train, y_train)\n",
    "X_train_model_selected = selector.transform(X_train)\n",
    "\n",
    "# ONLY transform the test data\n",
    "X_test_model_selected = selector.transform(X_test)\n",
    "\n",
    "# Get the names of the selected columns\n",
    "selected_cols_model = X_train.columns[selector.get_support()]\n",
    "print(\"Features selected by RandomForest:\", selected_cols_model.tolist())\n",
    "print(\"Selected training data shape:\", X_train_model_selected.shape)"
   ]
  },
  {
   "cell_type": "markdown",
   "id": "bf17c288-46ab-4c82-a5dc-1634dd6c220e",
   "metadata": {},
   "source": [
    "---\n",
    "### 7. MODEL SELECTION\n",
    "---"
   ]
  },
  {
   "cell_type": "code",
   "execution_count": 9,
   "id": "bd1bf698-e7ba-4ddb-bb01-5566b195d132",
   "metadata": {},
   "outputs": [],
   "source": [
    "from sklearn.model_selection import KFold, cross_val_score\n",
    "from sklearn.linear_model import LogisticRegression\n",
    "from sklearn.neighbors import KNeighborsClassifier\n",
    "from sklearn.svm import SVC\n",
    "from sklearn.ensemble import RandomForestClassifier, GradientBoostingClassifier\n",
    "from xgboost import XGBClassifier\n",
    "import pandas as pd\n",
    "import time"
   ]
  },
  {
   "cell_type": "code",
   "execution_count": 10,
   "id": "a06c6a0b-00bd-4ac6-b47b-e9f64ff5ba50",
   "metadata": {},
   "outputs": [
    {
     "name": "stdout",
     "output_type": "stream",
     "text": [
      "Starting model bake-off...\n",
      "LR: 0.8807 (0.0073) | Time: 7.27 seconds\n",
      "KNN: nan (nan) | Time: 3.78 seconds\n",
      "RF: 0.8933 (0.0028) | Time: 4.31 seconds\n",
      "GB: 0.9065 (0.0031) | Time: 2.12 seconds\n",
      "XGB: 0.8931 (0.0065) | Time: 0.67 seconds\n",
      "\n",
      "--- Model Comparison ---\n",
      "  Model  Mean ROC AUC   Std Dev\n",
      "3    GB      0.906502  0.003144\n",
      "2    RF      0.893293  0.002831\n",
      "4   XGB      0.893135  0.006461\n",
      "0    LR      0.880675  0.007255\n",
      "1   KNN           NaN       NaN\n"
     ]
    }
   ],
   "source": [
    "# --- Hide annoying warnings for a clean output ---\n",
    "warnings.filterwarnings('ignore')\n",
    "\n",
    "# --- Your data and models setup ---\n",
    "# Assume X_train and y_train are already defined and processed\n",
    "\n",
    "# For compatibility, especially with KNN, it's good practice to use the NumPy array\n",
    "X_train_np = X_train.values\n",
    "\n",
    "# Initialize models\n",
    "models = [\n",
    "    (\"LR\", LogisticRegression(class_weight='balanced', max_iter=1000)),\n",
    "    (\"KNN\", KNeighborsClassifier()),\n",
    "    # (\"SVM\", SVC(probability=True, class_weight='balanced')), # <-- Temporarily disable the slowest model for a quick run\n",
    "    (\"RF\", RandomForestClassifier(class_weight='balanced', random_state=42, n_estimators=50)), # <-- Use fewer estimators for the bake-off\n",
    "    (\"GB\", GradientBoostingClassifier(random_state=42, n_estimators=50)), # <-- Use fewer estimators for the bake-off\n",
    "    (\"XGB\", XGBClassifier(eval_metric='logloss', scale_pos_weight=sum(y_train==0)/sum(y_train==1), random_state=42))\n",
    "]\n",
    "\n",
    "# Set up cross-validation\n",
    "k_fold = KFold(n_splits=5, shuffle=True, random_state=42)\n",
    "\n",
    "# --- The Loop with Speed Improvements ---\n",
    "results = []\n",
    "print(\"Starting model bake-off...\")\n",
    "for name, model in models:\n",
    "    start_time = time.time()\n",
    "\n",
    "    # THE KEY SPEED IMPROVEMENT: n_jobs=-1 uses all CPU cores\n",
    "    cv_results = cross_val_score(model, X_train_np, y_train, cv=k_fold, scoring='roc_auc', n_jobs=-1)\n",
    "\n",
    "    end_time = time.time()\n",
    "    results.append((name, cv_results.mean(), cv_results.std()))\n",
    "    print(f\"{name}: {cv_results.mean():.4f} ({cv_results.std():.4f}) | Time: {end_time - start_time:.2f} seconds\")\n",
    "\n",
    "\n",
    "# --- Final Comparison ---\n",
    "results_df = pd.DataFrame(results, columns=['Model', 'Mean ROC AUC', 'Std Dev'])\n",
    "print(\"\\n--- Model Comparison ---\")\n",
    "print(results_df.sort_values(by='Mean ROC AUC', ascending=False))"
   ]
  },
  {
   "cell_type": "markdown",
   "id": "b3b99c8c-500f-4199-a0b3-dbcb9740776e",
   "metadata": {},
   "source": [
    "---\n",
    "### 8. HYPERPARAMETER TUNING\n",
    "---"
   ]
  },
  {
   "cell_type": "code",
   "execution_count": 11,
   "id": "963ffa05-0e8e-45d6-ae5e-9b4a3524ef70",
   "metadata": {},
   "outputs": [
    {
     "name": "stdout",
     "output_type": "stream",
     "text": [
      "Fitting 3 folds for each of 20 candidates, totalling 60 fits\n",
      "\n",
      "Type of the best estimator: <class 'sklearn.pipeline.Pipeline'>\n",
      "\n",
      "--- Tuning Complete ---\n",
      "Best Parameters Found: {'classifier__subsample': 0.9, 'classifier__n_estimators': 300, 'classifier__min_samples_leaf': 2, 'classifier__max_features': 'sqrt', 'classifier__max_depth': 3, 'classifier__learning_rate': 0.05}\n",
      "Best Cross-Validated ROC AUC Score: 0.907016950777654\n"
     ]
    }
   ],
   "source": [
    "import warnings\n",
    "warnings.filterwarnings('ignore')\n",
    "from sklearn.pipeline import Pipeline\n",
    "from sklearn.compose import ColumnTransformer\n",
    "from sklearn.preprocessing import StandardScaler, OneHotEncoder\n",
    "from sklearn.model_selection import RandomizedSearchCV\n",
    "from sklearn.ensemble import GradientBoostingClassifier\n",
    "import numpy as np\n",
    "\n",
    "# --- Step 1: Redefine the Preprocessor (Crucial!) ---\n",
    "# You need to define the preprocessing steps exactly as they were done before.\n",
    "# Get the raw X_train dataframe, BEFORE any manual scaling or get_dummies.\n",
    "\n",
    "# Identify column types from the raw training set\n",
    "numeric_features = X_train.select_dtypes(include=np.number).columns.tolist()\n",
    "categorical_features = X_train.select_dtypes(include=['object']).columns.tolist()\n",
    "\n",
    "# Create the preprocessor object\n",
    "preprocessor = ColumnTransformer(\n",
    "    transformers=[\n",
    "        ('num', StandardScaler(), numeric_features),\n",
    "        ('cat', OneHotEncoder(handle_unknown='ignore', drop='first'), categorical_features)\n",
    "    ],\n",
    "    remainder='passthrough'\n",
    ")\n",
    "\n",
    "# --- Step 2: Create the Full Pipeline ---\n",
    "# This pipeline chains the preprocessor and the classifier together.\n",
    "pipeline = Pipeline(steps=[\n",
    "    ('preprocessor', preprocessor),\n",
    "    ('classifier', GradientBoostingClassifier(random_state=42))\n",
    "])\n",
    "\n",
    "\n",
    "# --- Step 3: Define the Parameter Grid for the PIPELINE ---\n",
    "# Note how the parameter names are now prefixed with 'classifier__'\n",
    "param_dist_pipeline = {\n",
    "    'classifier__n_estimators': [100, 200, 300],\n",
    "    'classifier__learning_rate': [0.05, 0.1],\n",
    "    'classifier__max_depth': [3, 4, 5],\n",
    "    'classifier__subsample': [0.8, 0.9],\n",
    "    'classifier__min_samples_leaf': [2, 4],\n",
    "    'classifier__max_features': ['sqrt']\n",
    "}\n",
    "\n",
    "# --- Step 4: Run RandomizedSearchCV on the PIPELINE ---\n",
    "random_search = RandomizedSearchCV(\n",
    "    pipeline,  # We are tuning the entire pipeline object now\n",
    "    param_distributions=param_dist_pipeline,\n",
    "    n_iter=20,\n",
    "    cv=3,\n",
    "    scoring='roc_auc',\n",
    "    random_state=42,\n",
    "    n_jobs=-1,\n",
    "    verbose=1\n",
    ")\n",
    "\n",
    "# Fit the search on the RAW, UNPROCESSED training data\n",
    "# The pipeline will handle all preprocessing internally.\n",
    "# THIS IS VERY IMPORTANT: Use the X_train that has NOT been manually scaled or one-hot encoded.\n",
    "random_search.fit(X_train, y_train)\n",
    "\n",
    "\n",
    "# --- Step 5: Get the Best Estimator and Verify its Type ---\n",
    "# This 'best_model_pipeline' is the object you need to save and deploy.\n",
    "best_model_pipeline = random_search.best_estimator_\n",
    "\n",
    "# Check the type. It will now be a Pipeline.\n",
    "print(\"\\nType of the best estimator:\", type(best_model_pipeline))\n",
    "# EXPECTED OUTPUT: <class 'sklearn.pipeline.Pipeline'>\n",
    "\n",
    "print(\"\\n--- Tuning Complete ---\")\n",
    "print(\"Best Parameters Found:\", random_search.best_params_)\n",
    "print(\"Best Cross-Validated ROC AUC Score:\", random_search.best_score_)"
   ]
  },
  {
   "cell_type": "markdown",
   "id": "a6802baf-c92f-4505-86ef-8c319d02c42e",
   "metadata": {},
   "source": [
    "---\n",
    "### 9. MODEL EVALUATION\n",
    "---"
   ]
  },
  {
   "cell_type": "code",
   "execution_count": 14,
   "id": "e213c44e-c654-467c-bfb0-10ec2d3761a0",
   "metadata": {},
   "outputs": [
    {
     "name": "stdout",
     "output_type": "stream",
     "text": [
      "\n",
      "--- Final Evaluation on the Unseen Test Set ---\n",
      "\n",
      "Test Set ROC AUC Score: 0.8913089640527833\n",
      "\n",
      "Classification Report:\n",
      "               precision    recall  f1-score   support\n",
      "\n",
      "           0       0.87      0.94      0.90       855\n",
      "           1       0.80      0.65      0.72       347\n",
      "\n",
      "    accuracy                           0.85      1202\n",
      "   macro avg       0.84      0.79      0.81      1202\n",
      "weighted avg       0.85      0.85      0.85      1202\n",
      "\n",
      "\n",
      "Confusion Matrix:\n",
      " [[800  55]\n",
      " [121 226]]\n"
     ]
    }
   ],
   "source": [
    "from sklearn.metrics import classification_report, confusion_matrix, roc_auc_score\n",
    "\n",
    "print(\"\\n--- Final Evaluation on the Unseen Test Set ---\")\n",
    "\n",
    "# Make predictions\n",
    "y_pred_test = best_model_pipeline.predict(X_test)\n",
    "y_prob_test = best_model_pipeline.predict_proba(X_test)[:, 1]\n",
    "\n",
    "# Print metrics\n",
    "print(\"\\nTest Set ROC AUC Score:\", roc_auc_score(y_test, y_prob_test))\n",
    "print(\"\\nClassification Report:\\n\", classification_report(y_test, y_pred_test))\n",
    "print(\"\\nConfusion Matrix:\\n\", confusion_matrix(y_test, y_pred_test))"
   ]
  },
  {
   "cell_type": "markdown",
   "id": "56ae9e23-23b5-4963-a0a8-65fe56aa1dd6",
   "metadata": {},
   "source": [
    "---\n",
    "### Improving Churner Recall (Reducing False Negatives)\n",
    "---"
   ]
  },
  {
   "cell_type": "code",
   "execution_count": 15,
   "id": "aea9fa46-25ab-4388-bc4d-a6a3b986cdc9",
   "metadata": {},
   "outputs": [
    {
     "name": "stdout",
     "output_type": "stream",
     "text": [
      "--- Lowering the prediction threshold to catch more churners ---\n",
      "\n",
      "Results with a New Threshold of 0.35:\n",
      "\n",
      "New Classification Report:\n",
      "               precision    recall  f1-score   support\n",
      "\n",
      "           0       0.89      0.85      0.87       855\n",
      "           1       0.67      0.75      0.71       347\n",
      "\n",
      "    accuracy                           0.82      1202\n",
      "   macro avg       0.78      0.80      0.79      1202\n",
      "weighted avg       0.83      0.82      0.82      1202\n",
      "\n",
      "\n",
      "New Confusion Matrix:\n",
      " [[729 126]\n",
      " [ 88 259]]\n"
     ]
    }
   ],
   "source": [
    "print(\"--- Lowering the prediction threshold to catch more churners ---\")\n",
    "\n",
    "# We already have y_prob_test from the previous cell.\n",
    "\n",
    "# Let's experiment with a new, lower threshold\n",
    "new_threshold = 0.35 # You can change this value (e.g., 0.4, 0.3)\n",
    "\n",
    "# A customer is predicted to churn if their probability is >= new_threshold\n",
    "y_pred_new_threshold = (y_prob_test >= new_threshold).astype(int)\n",
    "\n",
    "# --- Evaluate the results of this new strategy ---\n",
    "print(f\"\\nResults with a New Threshold of {new_threshold}:\")\n",
    "print(\"\\nNew Classification Report:\\n\", classification_report(y_test, y_pred_new_threshold))\n",
    "print(\"\\nNew Confusion Matrix:\\n\", confusion_matrix(y_test, y_pred_new_threshold))"
   ]
  },
  {
   "cell_type": "markdown",
   "id": "99044dd1-6165-499a-9dd8-2328708c60ec",
   "metadata": {},
   "source": [
    "---\n",
    "### 10. CONCLUSION AND INTERPRETATION \n",
    "---"
   ]
  },
  {
   "cell_type": "markdown",
   "id": "171270e7-879d-4e6b-9296-f5d7a77e4928",
   "metadata": {},
   "source": [
    "Of course. Here is a comprehensive conclusion and interpretation, written as if it were the final summary of your project report or presentation. This brings together all the results, from the initial model to the final tuned strategy.\n",
    "\n",
    "---\n",
    "\n",
    "### **Project Conclusion & Interpretation: TelComm Churn Analysis**\n",
    "\n",
    "#### **Executive Summary**\n",
    "\n",
    "This project successfully developed and deployed a machine learning model to proactively identify customers at risk of churning from TelComm. By analyzing customer data, we built a **Gradient Boosting Classifier** that can predict churn with a high degree of accuracy. The final model was further refined to meet specific business objectives, providing a flexible tool for data-driven retention strategies. On unseen test data, our primary model achieved an **ROC AUC score of 0.89**, demonstrating robust and reliable predictive power.\n",
    "\n",
    "---\n",
    "\n",
    "### **Key Findings & Model Performance**\n",
    "\n",
    "Our analysis revealed several key drivers of customer churn and culminated in two strategic models tailored for different business priorities.\n",
    "\n",
    "**1. Identifying the Primary Drivers of Churn:**\n",
    "Our analysis, confirmed by the final model's feature importance, identified the most significant factors leading to customer churn:\n",
    "*   **Contract Type:** Customers on **Month-to-Month contracts** are overwhelmingly more likely to churn than those on one or two-year agreements.\n",
    "*   **Internet Service:** The presence of **Fiber Optic** internet is a strong predictor of churn, suggesting potential issues with pricing, service stability, or unmet customer expectations for this premium service.\n",
    "*   **Monthly Charges:** Higher monthly bills are directly correlated with an increased likelihood of churn.\n",
    "*   **Tenure:** New customers with low tenure are significantly more at risk than long-term, loyal customers.\n",
    "\n",
    "**2. The \"Efficiency\" Model (Default Threshold: 0.50)**\n",
    "Our initial tuned model was optimized for overall balance, resulting in high precision.\n",
    "\n",
    "*   **Precision: 80%** | **Recall: 65%** | **ROC AUC: 0.89**\n",
    "\n",
    "**Interpretation:**\n",
    "This model is highly efficient. When it flags a customer as a churn risk, it is correct **80% of the time**. This is ideal for a cost-conscious strategy where the primary goal is to minimize wasted resources on retention offers to happy customers. However, this efficiency comes at the cost of missing **35%** of customers who will actually churn.\n",
    "\n",
    "**3. The \"High-Retention\" Model (Optimized Threshold: 0.35)**\n",
    "By adjusting the model's decision threshold, we created a second strategy focused on maximizing the number of at-risk customers identified.\n",
    "\n",
    "*   **Precision: 67%** | **Recall: 75%** | **F1-Score: 0.71**\n",
    "\n",
    "**Interpretation:**\n",
    "This model is a powerful tool for aggressive retention. It successfully identifies **75% of all customers who are going to churn**—a 10% improvement over the efficiency model. This strategy allowed us to \"save\" an additional 33 at-risk customers in our test set of 1,202. The trade-off is a decrease in precision, meaning the retention team will contact more non-churning customers in the process.\n",
    "\n",
    "---\n",
    "\n",
    "### **Strategic Business Recommendations**\n",
    "\n",
    "Based on these findings, we propose the following actionable recommendations:\n",
    "\n",
    "**1. Implement a Proactive, Data-Driven Retention Program:**\n",
    "TelComm should move away from a reactive model and use these predictions to engage at-risk customers *before* they decide to leave. The choice between the \"Efficiency\" and \"High-Retention\" models should be based on business priorities.\n",
    "*   **Recommendation:** Begin with the **\"High-Retention\" (0.35 threshold) model**. The value of retaining a customer likely far outweighs the operational cost of contacting a non-churner. This maximizes potential revenue saved.\n",
    "\n",
    "**2. Revamp Contract and Internet Service Offerings:**\n",
    "*   **Incentivize Long-Term Contracts:** Develop targeted marketing campaigns to encourage Month-to-Month customers to upgrade to one or two-year contracts, perhaps by offering a discount or a value-added service. This is the single most impactful structural change to reduce churn.\n",
    "*   **Investigate the Fiber Optic Experience:** Conduct a thorough review of the Fiber Optic service. Are customers satisfied with the speed and reliability? Is the price point too high compared to competitors? Is customer support for this segment adequate? Addressing pain points here is critical.\n",
    "\n",
    "**3. Continuously Monitor and Iterate:**\n",
    "This model provides a powerful baseline. It should be retrained periodically (e.g., every quarter) with new customer data to adapt to changing market dynamics and customer behaviors. Future iterations could explore more advanced feature engineering or different modeling techniques to further improve recall without significantly impacting precision.\n",
    "\n",
    "In conclusion, this project provides TelComm not just with a predictive tool, but with a clear, data-backed understanding of why its customers leave and a strategic framework for how to keep them."
   ]
  },
  {
   "cell_type": "code",
   "execution_count": 16,
   "id": "d1aec278-2e9b-44a3-90fb-24993def5dfb",
   "metadata": {},
   "outputs": [
    {
     "name": "stdout",
     "output_type": "stream",
     "text": [
      "Model pipeline saved successfully as churn_pipeline.joblib\n"
     ]
    }
   ],
   "source": [
    "import joblib\n",
    "\n",
    "joblib.dump(best_model_pipeline, r'C:\\Users\\91982\\Desktop\\sandesh\\Data Science\\ML\\ChurnData-Logistic Regression\\churn_pipeline.joblib')\n",
    "\n",
    "print(\"Model pipeline saved successfully as churn_pipeline.joblib\")"
   ]
  },
  {
   "cell_type": "code",
   "execution_count": null,
   "id": "793c5fe4-98fb-4651-a7fe-186ba517bdc4",
   "metadata": {},
   "outputs": [],
   "source": []
  }
 ],
 "metadata": {
  "kernelspec": {
   "display_name": "Python 3 (ipykernel)",
   "language": "python",
   "name": "python3"
  },
  "language_info": {
   "codemirror_mode": {
    "name": "ipython",
    "version": 3
   },
   "file_extension": ".py",
   "mimetype": "text/x-python",
   "name": "python",
   "nbconvert_exporter": "python",
   "pygments_lexer": "ipython3",
   "version": "3.10.18"
  }
 },
 "nbformat": 4,
 "nbformat_minor": 5
}
